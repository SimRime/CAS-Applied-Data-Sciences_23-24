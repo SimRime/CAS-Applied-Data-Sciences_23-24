{
 "cells": [
  {
   "cell_type": "markdown",
   "id": "af0b54ba",
   "metadata": {},
   "source": [
    "# Cleaning of the variable \"number of cases\""
   ]
  },
  {
   "cell_type": "code",
   "execution_count": 163,
   "id": "0289c2e2",
   "metadata": {},
   "outputs": [],
   "source": [
    "import numpy as np\n",
    "import matplotlib.pyplot as plt\n",
    "import pandas as pd\n",
    "import io\n",
    "import statsmodels.api as sm\n",
    "from scipy import stats\n",
    "import geopandas as gpd"
   ]
  },
  {
   "cell_type": "code",
   "execution_count": 164,
   "id": "857d3249",
   "metadata": {},
   "outputs": [
    {
     "name": "stderr",
     "output_type": "stream",
     "text": [
      "C:\\Users\\Gaëlle\\AppData\\Local\\Temp\\ipykernel_8108\\1160773324.py:2: DtypeWarning: Columns (0,1,2,3,4,5,7,8,9,10,11,12,13,14,15,16,17,18,19,20,22,23,24) have mixed types. Specify dtype option on import or set low_memory=False.\n",
      "  df = pd.read_csv(file_path)\n"
     ]
    }
   ],
   "source": [
    "file_path = 'C:/Users/Gaëlle/Documents/_CAS applied data science/3. Module 3 Data analysis and machine learning/Project/merged_with_hospital_data.csv'\n",
    "df = pd.read_csv(file_path)\n",
    "#column_names=df.columns.tolist()    \n",
    "#column_names"
   ]
  },
  {
   "cell_type": "markdown",
   "id": "30b84a2b",
   "metadata": {},
   "source": [
    "## Explore the dataset"
   ]
  },
  {
   "cell_type": "code",
   "execution_count": 165,
   "id": "265281e0",
   "metadata": {},
   "outputs": [
    {
     "data": {
      "text/html": [
       "<div>\n",
       "<style scoped>\n",
       "    .dataframe tbody tr th:only-of-type {\n",
       "        vertical-align: middle;\n",
       "    }\n",
       "\n",
       "    .dataframe tbody tr th {\n",
       "        vertical-align: top;\n",
       "    }\n",
       "\n",
       "    .dataframe thead th {\n",
       "        text-align: right;\n",
       "    }\n",
       "</style>\n",
       "<table border=\"1\" class=\"dataframe\">\n",
       "  <thead>\n",
       "    <tr style=\"text-align: right;\">\n",
       "      <th></th>\n",
       "      <th>hospital_name</th>\n",
       "      <th>indicator</th>\n",
       "      <th>observed_rate</th>\n",
       "      <th>expected_rate</th>\n",
       "      <th>SMR</th>\n",
       "      <th>number_of_cases</th>\n",
       "      <th>year</th>\n",
       "      <th>KT</th>\n",
       "      <th>Status</th>\n",
       "      <th>Adr</th>\n",
       "      <th>...</th>\n",
       "      <th>ErlOKPAmbB</th>\n",
       "      <th>ErlStatB</th>\n",
       "      <th>ErlKVGStatB</th>\n",
       "      <th>ErlKVGStatVB</th>\n",
       "      <th>ErlZvOKPStatB</th>\n",
       "      <th>ErlZvOKPStatVB</th>\n",
       "      <th>ErlLangB</th>\n",
       "      <th>PTageLang</th>\n",
       "      <th>AustLang</th>\n",
       "      <th>KostLangT</th>\n",
       "    </tr>\n",
       "  </thead>\n",
       "  <tbody>\n",
       "    <tr>\n",
       "      <th>0</th>\n",
       "      <td>HUG</td>\n",
       "      <td>A Maladies cardiaques</td>\n",
       "      <td></td>\n",
       "      <td></td>\n",
       "      <td></td>\n",
       "      <td></td>\n",
       "      <td>2008</td>\n",
       "      <td>NaN</td>\n",
       "      <td>NaN</td>\n",
       "      <td>NaN</td>\n",
       "      <td>...</td>\n",
       "      <td>NaN</td>\n",
       "      <td>NaN</td>\n",
       "      <td>NaN</td>\n",
       "      <td>NaN</td>\n",
       "      <td>NaN</td>\n",
       "      <td>NaN</td>\n",
       "      <td>NaN</td>\n",
       "      <td>NaN</td>\n",
       "      <td>NaN</td>\n",
       "      <td>NaN</td>\n",
       "    </tr>\n",
       "    <tr>\n",
       "      <th>1</th>\n",
       "      <td>HUG</td>\n",
       "      <td>A.1 Infarctus du myocarde</td>\n",
       "      <td></td>\n",
       "      <td></td>\n",
       "      <td></td>\n",
       "      <td></td>\n",
       "      <td>2008</td>\n",
       "      <td>NaN</td>\n",
       "      <td>NaN</td>\n",
       "      <td>NaN</td>\n",
       "      <td>...</td>\n",
       "      <td>NaN</td>\n",
       "      <td>NaN</td>\n",
       "      <td>NaN</td>\n",
       "      <td>NaN</td>\n",
       "      <td>NaN</td>\n",
       "      <td>NaN</td>\n",
       "      <td>NaN</td>\n",
       "      <td>NaN</td>\n",
       "      <td>NaN</td>\n",
       "      <td>NaN</td>\n",
       "    </tr>\n",
       "    <tr>\n",
       "      <th>2</th>\n",
       "      <td>HUG</td>\n",
       "      <td>A.1.1.M</td>\n",
       "      <td>0.072</td>\n",
       "      <td>0.07</td>\n",
       "      <td>1</td>\n",
       "      <td>526</td>\n",
       "      <td>2008</td>\n",
       "      <td>NaN</td>\n",
       "      <td>NaN</td>\n",
       "      <td>NaN</td>\n",
       "      <td>...</td>\n",
       "      <td>NaN</td>\n",
       "      <td>NaN</td>\n",
       "      <td>NaN</td>\n",
       "      <td>NaN</td>\n",
       "      <td>NaN</td>\n",
       "      <td>NaN</td>\n",
       "      <td>NaN</td>\n",
       "      <td>NaN</td>\n",
       "      <td>NaN</td>\n",
       "      <td>NaN</td>\n",
       "    </tr>\n",
       "    <tr>\n",
       "      <th>3</th>\n",
       "      <td>HUG</td>\n",
       "      <td>A.1.2.M</td>\n",
       "      <td>0.024</td>\n",
       "      <td>0.012</td>\n",
       "      <td>2.1</td>\n",
       "      <td>41</td>\n",
       "      <td>2008</td>\n",
       "      <td>NaN</td>\n",
       "      <td>NaN</td>\n",
       "      <td>NaN</td>\n",
       "      <td>...</td>\n",
       "      <td>NaN</td>\n",
       "      <td>NaN</td>\n",
       "      <td>NaN</td>\n",
       "      <td>NaN</td>\n",
       "      <td>NaN</td>\n",
       "      <td>NaN</td>\n",
       "      <td>NaN</td>\n",
       "      <td>NaN</td>\n",
       "      <td>NaN</td>\n",
       "      <td>NaN</td>\n",
       "    </tr>\n",
       "    <tr>\n",
       "      <th>4</th>\n",
       "      <td>HUG</td>\n",
       "      <td>A.1.3.M</td>\n",
       "      <td>0.045</td>\n",
       "      <td>0.024</td>\n",
       "      <td>1.9</td>\n",
       "      <td>199</td>\n",
       "      <td>2008</td>\n",
       "      <td>NaN</td>\n",
       "      <td>NaN</td>\n",
       "      <td>NaN</td>\n",
       "      <td>...</td>\n",
       "      <td>NaN</td>\n",
       "      <td>NaN</td>\n",
       "      <td>NaN</td>\n",
       "      <td>NaN</td>\n",
       "      <td>NaN</td>\n",
       "      <td>NaN</td>\n",
       "      <td>NaN</td>\n",
       "      <td>NaN</td>\n",
       "      <td>NaN</td>\n",
       "      <td>NaN</td>\n",
       "    </tr>\n",
       "  </tbody>\n",
       "</table>\n",
       "<p>5 rows × 221 columns</p>\n",
       "</div>"
      ],
      "text/plain": [
       "  hospital_name                  indicator observed_rate expected_rate  SMR  \\\n",
       "0           HUG      A Maladies cardiaques                                    \n",
       "1           HUG  A.1 Infarctus du myocarde                                    \n",
       "2           HUG                    A.1.1.M         0.072          0.07    1   \n",
       "3           HUG                    A.1.2.M         0.024         0.012  2.1   \n",
       "4           HUG                    A.1.3.M         0.045         0.024  1.9   \n",
       "\n",
       "  number_of_cases  year   KT Status  Adr  ... ErlOKPAmbB ErlStatB ErlKVGStatB  \\\n",
       "0                  2008  NaN    NaN  NaN  ...        NaN      NaN         NaN   \n",
       "1                  2008  NaN    NaN  NaN  ...        NaN      NaN         NaN   \n",
       "2             526  2008  NaN    NaN  NaN  ...        NaN      NaN         NaN   \n",
       "3              41  2008  NaN    NaN  NaN  ...        NaN      NaN         NaN   \n",
       "4             199  2008  NaN    NaN  NaN  ...        NaN      NaN         NaN   \n",
       "\n",
       "  ErlKVGStatVB ErlZvOKPStatB ErlZvOKPStatVB ErlLangB PTageLang AustLang  \\\n",
       "0          NaN           NaN            NaN      NaN       NaN      NaN   \n",
       "1          NaN           NaN            NaN      NaN       NaN      NaN   \n",
       "2          NaN           NaN            NaN      NaN       NaN      NaN   \n",
       "3          NaN           NaN            NaN      NaN       NaN      NaN   \n",
       "4          NaN           NaN            NaN      NaN       NaN      NaN   \n",
       "\n",
       "  KostLangT  \n",
       "0       NaN  \n",
       "1       NaN  \n",
       "2       NaN  \n",
       "3       NaN  \n",
       "4       NaN  \n",
       "\n",
       "[5 rows x 221 columns]"
      ]
     },
     "execution_count": 165,
     "metadata": {},
     "output_type": "execute_result"
    }
   ],
   "source": [
    "df.head()"
   ]
  },
  {
   "cell_type": "code",
   "execution_count": 166,
   "id": "aa0516f0",
   "metadata": {
    "scrolled": true
   },
   "outputs": [
    {
     "name": "stdout",
     "output_type": "stream",
     "text": [
      "the shape of the dataset: (943322, 221)\n"
     ]
    }
   ],
   "source": [
    "print('the shape of the dataset:', df.shape)"
   ]
  },
  {
   "cell_type": "code",
   "execution_count": 167,
   "id": "5f40118c",
   "metadata": {},
   "outputs": [
    {
     "name": "stdout",
     "output_type": "stream",
     "text": [
      "hospital_name     139896\n",
      "indicator           2833\n",
      "observed_rate     606795\n",
      "expected_rate     618075\n",
      "SMR               673430\n",
      "                   ...  \n",
      "ErlZvOKPStatVB    933999\n",
      "ErlLangB          876993\n",
      "PTageLang         904969\n",
      "AustLang          904969\n",
      "KostLangT         904969\n",
      "Length: 221, dtype: int64\n"
     ]
    }
   ],
   "source": [
    "na_per_variable = df.isna().sum()\n",
    "print(na_per_variable)"
   ]
  },
  {
   "cell_type": "code",
   "execution_count": 168,
   "id": "f1c43bfa",
   "metadata": {},
   "outputs": [
    {
     "data": {
      "text/html": [
       "<div>\n",
       "<style scoped>\n",
       "    .dataframe tbody tr th:only-of-type {\n",
       "        vertical-align: middle;\n",
       "    }\n",
       "\n",
       "    .dataframe tbody tr th {\n",
       "        vertical-align: top;\n",
       "    }\n",
       "\n",
       "    .dataframe thead th {\n",
       "        text-align: right;\n",
       "    }\n",
       "</style>\n",
       "<table border=\"1\" class=\"dataframe\">\n",
       "  <thead>\n",
       "    <tr style=\"text-align: right;\">\n",
       "      <th></th>\n",
       "      <th>year</th>\n",
       "      <th>AnzStand</th>\n",
       "      <th>AmbKonsT</th>\n",
       "      <th>Ptage</th>\n",
       "      <th>PtageStatT</th>\n",
       "      <th>PtageStatMST</th>\n",
       "      <th>Aust</th>\n",
       "      <th>AustStatT</th>\n",
       "      <th>AustStatMST</th>\n",
       "      <th>Neug</th>\n",
       "      <th>...</th>\n",
       "      <th>ErlOKPAmbB</th>\n",
       "      <th>ErlStatB</th>\n",
       "      <th>ErlKVGStatB</th>\n",
       "      <th>ErlKVGStatVB</th>\n",
       "      <th>ErlZvOKPStatB</th>\n",
       "      <th>ErlZvOKPStatVB</th>\n",
       "      <th>ErlLangB</th>\n",
       "      <th>PTageLang</th>\n",
       "      <th>AustLang</th>\n",
       "      <th>KostLangT</th>\n",
       "    </tr>\n",
       "  </thead>\n",
       "  <tbody>\n",
       "    <tr>\n",
       "      <th>count</th>\n",
       "      <td>943322.000000</td>\n",
       "      <td>389246.000000</td>\n",
       "      <td>1.969110e+05</td>\n",
       "      <td>56952.000000</td>\n",
       "      <td>117374.000000</td>\n",
       "      <td>269827.000000</td>\n",
       "      <td>56952.000000</td>\n",
       "      <td>117374.000000</td>\n",
       "      <td>269827.000000</td>\n",
       "      <td>56952.000000</td>\n",
       "      <td>...</td>\n",
       "      <td>77543.000000</td>\n",
       "      <td>6.632900e+04</td>\n",
       "      <td>7.754300e+04</td>\n",
       "      <td>22942.000000</td>\n",
       "      <td>7.754300e+04</td>\n",
       "      <td>9323.000000</td>\n",
       "      <td>66329.0</td>\n",
       "      <td>38353.000000</td>\n",
       "      <td>38353.000000</td>\n",
       "      <td>3.835300e+04</td>\n",
       "    </tr>\n",
       "    <tr>\n",
       "      <th>mean</th>\n",
       "      <td>2016.246553</td>\n",
       "      <td>1.765917</td>\n",
       "      <td>1.632904e+05</td>\n",
       "      <td>52592.297637</td>\n",
       "      <td>51213.724309</td>\n",
       "      <td>66300.119454</td>\n",
       "      <td>6843.364553</td>\n",
       "      <td>7588.188653</td>\n",
       "      <td>11300.949886</td>\n",
       "      <td>466.326117</td>\n",
       "      <td>...</td>\n",
       "      <td>37964.372619</td>\n",
       "      <td>1.288023e+05</td>\n",
       "      <td>2.478921e+05</td>\n",
       "      <td>51.242295</td>\n",
       "      <td>7.455837e+03</td>\n",
       "      <td>56.343030</td>\n",
       "      <td>0.0</td>\n",
       "      <td>11904.291138</td>\n",
       "      <td>65.731338</td>\n",
       "      <td>4.216188e+06</td>\n",
       "    </tr>\n",
       "    <tr>\n",
       "      <th>std</th>\n",
       "      <td>3.946779</td>\n",
       "      <td>1.494581</td>\n",
       "      <td>2.002645e+05</td>\n",
       "      <td>66882.885166</td>\n",
       "      <td>69593.378383</td>\n",
       "      <td>76322.768768</td>\n",
       "      <td>7968.104833</td>\n",
       "      <td>9484.053293</td>\n",
       "      <td>12299.558897</td>\n",
       "      <td>546.764913</td>\n",
       "      <td>...</td>\n",
       "      <td>83002.711848</td>\n",
       "      <td>3.558834e+05</td>\n",
       "      <td>5.540320e+05</td>\n",
       "      <td>12.748775</td>\n",
       "      <td>4.245989e+04</td>\n",
       "      <td>18.131776</td>\n",
       "      <td>0.0</td>\n",
       "      <td>28671.663452</td>\n",
       "      <td>146.539780</td>\n",
       "      <td>9.751920e+06</td>\n",
       "    </tr>\n",
       "    <tr>\n",
       "      <th>min</th>\n",
       "      <td>2008.000000</td>\n",
       "      <td>1.000000</td>\n",
       "      <td>0.000000e+00</td>\n",
       "      <td>8.000000</td>\n",
       "      <td>0.000000</td>\n",
       "      <td>0.000000</td>\n",
       "      <td>3.000000</td>\n",
       "      <td>0.000000</td>\n",
       "      <td>0.000000</td>\n",
       "      <td>0.000000</td>\n",
       "      <td>...</td>\n",
       "      <td>0.000000</td>\n",
       "      <td>0.000000e+00</td>\n",
       "      <td>0.000000e+00</td>\n",
       "      <td>0.000000</td>\n",
       "      <td>0.000000e+00</td>\n",
       "      <td>41.106841</td>\n",
       "      <td>0.0</td>\n",
       "      <td>0.000000</td>\n",
       "      <td>0.000000</td>\n",
       "      <td>0.000000e+00</td>\n",
       "    </tr>\n",
       "    <tr>\n",
       "      <th>25%</th>\n",
       "      <td>2013.000000</td>\n",
       "      <td>1.000000</td>\n",
       "      <td>1.633400e+04</td>\n",
       "      <td>13959.000000</td>\n",
       "      <td>6320.000000</td>\n",
       "      <td>8405.000000</td>\n",
       "      <td>1757.000000</td>\n",
       "      <td>1078.000000</td>\n",
       "      <td>1714.000000</td>\n",
       "      <td>0.000000</td>\n",
       "      <td>...</td>\n",
       "      <td>0.000000</td>\n",
       "      <td>0.000000e+00</td>\n",
       "      <td>0.000000e+00</td>\n",
       "      <td>45.000037</td>\n",
       "      <td>0.000000e+00</td>\n",
       "      <td>45.000327</td>\n",
       "      <td>0.0</td>\n",
       "      <td>0.000000</td>\n",
       "      <td>0.000000</td>\n",
       "      <td>0.000000e+00</td>\n",
       "    </tr>\n",
       "    <tr>\n",
       "      <th>50%</th>\n",
       "      <td>2017.000000</td>\n",
       "      <td>1.000000</td>\n",
       "      <td>7.374900e+04</td>\n",
       "      <td>26569.000000</td>\n",
       "      <td>21735.000000</td>\n",
       "      <td>30964.000000</td>\n",
       "      <td>4112.000000</td>\n",
       "      <td>3702.000000</td>\n",
       "      <td>6561.000000</td>\n",
       "      <td>357.000000</td>\n",
       "      <td>...</td>\n",
       "      <td>0.000000</td>\n",
       "      <td>0.000000e+00</td>\n",
       "      <td>0.000000e+00</td>\n",
       "      <td>48.015757</td>\n",
       "      <td>0.000000e+00</td>\n",
       "      <td>49.000000</td>\n",
       "      <td>0.0</td>\n",
       "      <td>0.000000</td>\n",
       "      <td>0.000000</td>\n",
       "      <td>0.000000e+00</td>\n",
       "    </tr>\n",
       "    <tr>\n",
       "      <th>75%</th>\n",
       "      <td>2020.000000</td>\n",
       "      <td>2.000000</td>\n",
       "      <td>2.038090e+05</td>\n",
       "      <td>59096.000000</td>\n",
       "      <td>61060.000000</td>\n",
       "      <td>92384.000000</td>\n",
       "      <td>8089.000000</td>\n",
       "      <td>9149.000000</td>\n",
       "      <td>16882.000000</td>\n",
       "      <td>666.000000</td>\n",
       "      <td>...</td>\n",
       "      <td>7700.000000</td>\n",
       "      <td>0.000000e+00</td>\n",
       "      <td>1.858310e+05</td>\n",
       "      <td>51.000000</td>\n",
       "      <td>0.000000e+00</td>\n",
       "      <td>58.754143</td>\n",
       "      <td>0.0</td>\n",
       "      <td>21.000000</td>\n",
       "      <td>5.000000</td>\n",
       "      <td>1.444700e+04</td>\n",
       "    </tr>\n",
       "    <tr>\n",
       "      <th>max</th>\n",
       "      <td>2021.000000</td>\n",
       "      <td>24.000000</td>\n",
       "      <td>1.425145e+06</td>\n",
       "      <td>355395.000000</td>\n",
       "      <td>665463.000000</td>\n",
       "      <td>710524.000000</td>\n",
       "      <td>43668.000000</td>\n",
       "      <td>57066.000000</td>\n",
       "      <td>58939.000000</td>\n",
       "      <td>3245.000000</td>\n",
       "      <td>...</td>\n",
       "      <td>597921.000000</td>\n",
       "      <td>2.508078e+06</td>\n",
       "      <td>3.339478e+06</td>\n",
       "      <td>100.000000</td>\n",
       "      <td>1.173831e+06</td>\n",
       "      <td>100.000000</td>\n",
       "      <td>0.0</td>\n",
       "      <td>90108.000000</td>\n",
       "      <td>2853.000000</td>\n",
       "      <td>5.259843e+07</td>\n",
       "    </tr>\n",
       "  </tbody>\n",
       "</table>\n",
       "<p>8 rows × 198 columns</p>\n",
       "</div>"
      ],
      "text/plain": [
       "                year       AnzStand      AmbKonsT          Ptage  \\\n",
       "count  943322.000000  389246.000000  1.969110e+05   56952.000000   \n",
       "mean     2016.246553       1.765917  1.632904e+05   52592.297637   \n",
       "std         3.946779       1.494581  2.002645e+05   66882.885166   \n",
       "min      2008.000000       1.000000  0.000000e+00       8.000000   \n",
       "25%      2013.000000       1.000000  1.633400e+04   13959.000000   \n",
       "50%      2017.000000       1.000000  7.374900e+04   26569.000000   \n",
       "75%      2020.000000       2.000000  2.038090e+05   59096.000000   \n",
       "max      2021.000000      24.000000  1.425145e+06  355395.000000   \n",
       "\n",
       "          PtageStatT   PtageStatMST          Aust      AustStatT  \\\n",
       "count  117374.000000  269827.000000  56952.000000  117374.000000   \n",
       "mean    51213.724309   66300.119454   6843.364553    7588.188653   \n",
       "std     69593.378383   76322.768768   7968.104833    9484.053293   \n",
       "min         0.000000       0.000000      3.000000       0.000000   \n",
       "25%      6320.000000    8405.000000   1757.000000    1078.000000   \n",
       "50%     21735.000000   30964.000000   4112.000000    3702.000000   \n",
       "75%     61060.000000   92384.000000   8089.000000    9149.000000   \n",
       "max    665463.000000  710524.000000  43668.000000   57066.000000   \n",
       "\n",
       "         AustStatMST          Neug  ...     ErlOKPAmbB      ErlStatB  \\\n",
       "count  269827.000000  56952.000000  ...   77543.000000  6.632900e+04   \n",
       "mean    11300.949886    466.326117  ...   37964.372619  1.288023e+05   \n",
       "std     12299.558897    546.764913  ...   83002.711848  3.558834e+05   \n",
       "min         0.000000      0.000000  ...       0.000000  0.000000e+00   \n",
       "25%      1714.000000      0.000000  ...       0.000000  0.000000e+00   \n",
       "50%      6561.000000    357.000000  ...       0.000000  0.000000e+00   \n",
       "75%     16882.000000    666.000000  ...    7700.000000  0.000000e+00   \n",
       "max     58939.000000   3245.000000  ...  597921.000000  2.508078e+06   \n",
       "\n",
       "        ErlKVGStatB  ErlKVGStatVB  ErlZvOKPStatB  ErlZvOKPStatVB  ErlLangB  \\\n",
       "count  7.754300e+04  22942.000000   7.754300e+04     9323.000000   66329.0   \n",
       "mean   2.478921e+05     51.242295   7.455837e+03       56.343030       0.0   \n",
       "std    5.540320e+05     12.748775   4.245989e+04       18.131776       0.0   \n",
       "min    0.000000e+00      0.000000   0.000000e+00       41.106841       0.0   \n",
       "25%    0.000000e+00     45.000037   0.000000e+00       45.000327       0.0   \n",
       "50%    0.000000e+00     48.015757   0.000000e+00       49.000000       0.0   \n",
       "75%    1.858310e+05     51.000000   0.000000e+00       58.754143       0.0   \n",
       "max    3.339478e+06    100.000000   1.173831e+06      100.000000       0.0   \n",
       "\n",
       "          PTageLang      AustLang     KostLangT  \n",
       "count  38353.000000  38353.000000  3.835300e+04  \n",
       "mean   11904.291138     65.731338  4.216188e+06  \n",
       "std    28671.663452    146.539780  9.751920e+06  \n",
       "min        0.000000      0.000000  0.000000e+00  \n",
       "25%        0.000000      0.000000  0.000000e+00  \n",
       "50%        0.000000      0.000000  0.000000e+00  \n",
       "75%       21.000000      5.000000  1.444700e+04  \n",
       "max    90108.000000   2853.000000  5.259843e+07  \n",
       "\n",
       "[8 rows x 198 columns]"
      ]
     },
     "execution_count": 168,
     "metadata": {},
     "output_type": "execute_result"
    }
   ],
   "source": [
    "info=df.describe()\n",
    "info"
   ]
  },
  {
   "cell_type": "code",
   "execution_count": 169,
   "id": "2f7f109f",
   "metadata": {},
   "outputs": [
    {
     "name": "stdout",
     "output_type": "stream",
     "text": [
      "       hospital_name                  indicator observed_rate expected_rate  \\\n",
      "165649           NaN                        NaN           NaN           NaN   \n",
      "800628           NaN      A Maladies cardiaques                               \n",
      "800629           NaN  A.1 Infarctus du myocarde                               \n",
      "800630           NaN                    A.1.1.M         0.061         0.046   \n",
      "800631           NaN                    A.1.2.M             0         0.009   \n",
      "...              ...                        ...           ...           ...   \n",
      "940518           NaN                   Z.4.41.F           NaN           NaN   \n",
      "940519           NaN                   Z.4.42.F           NaN           NaN   \n",
      "940520           NaN                   Z.4.43.F           NaN           NaN   \n",
      "940521           NaN                   Z.4.44.F           NaN           NaN   \n",
      "940522           NaN                   Z.4.45.F           NaN           NaN   \n",
      "\n",
      "        SMR number_of_cases  year   KT Status  Adr  ... ErlOKPAmbB ErlStatB  \\\n",
      "165649  NaN             NaN  2012  NaN    NaN  NaN  ...        NaN      NaN   \n",
      "800628                       2021  NaN    NaN  NaN  ...        NaN      NaN   \n",
      "800629                       2021  NaN    NaN  NaN  ...        NaN      NaN   \n",
      "800630  1.3             510  2021  NaN    NaN  NaN  ...        NaN      NaN   \n",
      "800631    0              22  2021  NaN    NaN  NaN  ...        NaN      NaN   \n",
      "...     ...             ...   ...  ...    ...  ...  ...        ...      ...   \n",
      "940518  NaN               0  2021  NaN    NaN  NaN  ...        NaN      NaN   \n",
      "940519  NaN               0  2021  NaN    NaN  NaN  ...        NaN      NaN   \n",
      "940520  NaN               0  2021  NaN    NaN  NaN  ...        NaN      NaN   \n",
      "940521  NaN               0  2021  NaN    NaN  NaN  ...        NaN      NaN   \n",
      "940522  NaN               0  2021  NaN    NaN  NaN  ...        NaN      NaN   \n",
      "\n",
      "       ErlKVGStatB ErlKVGStatVB ErlZvOKPStatB ErlZvOKPStatVB ErlLangB  \\\n",
      "165649         NaN          NaN           NaN            NaN      NaN   \n",
      "800628         NaN          NaN           NaN            NaN      NaN   \n",
      "800629         NaN          NaN           NaN            NaN      NaN   \n",
      "800630         NaN          NaN           NaN            NaN      NaN   \n",
      "800631         NaN          NaN           NaN            NaN      NaN   \n",
      "...            ...          ...           ...            ...      ...   \n",
      "940518         NaN          NaN           NaN            NaN      NaN   \n",
      "940519         NaN          NaN           NaN            NaN      NaN   \n",
      "940520         NaN          NaN           NaN            NaN      NaN   \n",
      "940521         NaN          NaN           NaN            NaN      NaN   \n",
      "940522         NaN          NaN           NaN            NaN      NaN   \n",
      "\n",
      "       PTageLang AustLang KostLangT  \n",
      "165649       NaN      NaN       NaN  \n",
      "800628       NaN      NaN       NaN  \n",
      "800629       NaN      NaN       NaN  \n",
      "800630       NaN      NaN       NaN  \n",
      "800631       NaN      NaN       NaN  \n",
      "...          ...      ...       ...  \n",
      "940518       NaN      NaN       NaN  \n",
      "940519       NaN      NaN       NaN  \n",
      "940520       NaN      NaN       NaN  \n",
      "940521       NaN      NaN       NaN  \n",
      "940522       NaN      NaN       NaN  \n",
      "\n",
      "[139896 rows x 221 columns]\n"
     ]
    }
   ],
   "source": [
    "test=df[df['hospital_name'].isna()]\n",
    "print(test)"
   ]
  },
  {
   "cell_type": "markdown",
   "id": "3806d337",
   "metadata": {},
   "source": [
    "## Clean the variable \"number_of_cases"
   ]
  },
  {
   "cell_type": "markdown",
   "id": "c1c38440",
   "metadata": {},
   "source": [
    "### 1. Structure of the variable"
   ]
  },
  {
   "cell_type": "code",
   "execution_count": 170,
   "id": "458d3342",
   "metadata": {},
   "outputs": [
    {
     "data": {
      "text/plain": [
       "dtype('<U19')"
      ]
     },
     "execution_count": 170,
     "metadata": {},
     "output_type": "execute_result"
    }
   ],
   "source": [
    "valeur_nb_cases=(df['number_of_cases'].unique())\n",
    "valeur_nb_cases = valeur_nb_cases.astype(str) # transform in string\n",
    "valeur_nb_cases.dtype # important to know the type to save it correctly in csv"
   ]
  },
  {
   "cell_type": "code",
   "execution_count": 171,
   "id": "19fa9cd2",
   "metadata": {
    "scrolled": false
   },
   "outputs": [],
   "source": [
    "file_name = \"value.csv\"\n",
    "\n",
    "# Use numpy's savetxt function to save the table as a CSV file\n",
    "np.savetxt(file_name, valeur_nb_cases, fmt='%s', delimiter=',')\n",
    "## I am saving the file so I can see all the different values"
   ]
  },
  {
   "cell_type": "markdown",
   "id": "960a3da3",
   "metadata": {},
   "source": [
    "### 2. Let's get rid of the thousands separator"
   ]
  },
  {
   "cell_type": "code",
   "execution_count": 172,
   "id": "1e6a5a67",
   "metadata": {},
   "outputs": [],
   "source": [
    "#Creation of a new variable called \"number_of_cases_2\" which is the cleaned variable\n",
    "df['number_of_cases_2'] = df['number_of_cases'].apply(lambda x: int(x.replace(\"'\", \"\")) if isinstance(x, str) and x.replace(\"'\", \"\").isdigit() else x)"
   ]
  },
  {
   "cell_type": "markdown",
   "id": "4a36dff1",
   "metadata": {},
   "source": [
    "### 3. Identify cells which don't start with a number (ex: Fallzahl 2008)"
   ]
  },
  {
   "cell_type": "code",
   "execution_count": 173,
   "id": "c8407f23",
   "metadata": {},
   "outputs": [],
   "source": [
    "import re\n",
    "non_digit_start = df[df['number_of_cases_2'].apply(lambda x: not re.match(r'^\\d', str(x)))]\n",
    "value_nb_cases_bizarre=(non_digit_start['number_of_cases_2'].unique())"
   ]
  },
  {
   "cell_type": "code",
   "execution_count": 174,
   "id": "521385a6",
   "metadata": {
    "scrolled": true
   },
   "outputs": [
    {
     "data": {
      "text/plain": [
       "array([' ', '<10', '...', 'Fallzahl 2008', 'nombre de cas 2008',\n",
       "       'numero di casi 2008', 'Fallzahl 2009', 'nombre de cas 2009',\n",
       "       'numero di casi 2009', 'nombre de cas 2010', 'Fallzahl 2010',\n",
       "       'numero di casi 2010', 'nombre de cas 2011', 'Fallzahl 2011',\n",
       "       'numero di casi 2011', 'nombre de cas 2012', 'Fallzahl 2012',\n",
       "       'numero di casi 2012', nan, '-', 'nombre de cas 2013',\n",
       "       'Fallzahl 2013', 'numero di casi 2013', 'nombre de cas 2014',\n",
       "       'Fallzahl 2014', 'numero di casi 2014', 'nombre de cas 2015',\n",
       "       'Fallzahl 2015', 'numero di casi 2015', 'nombre de cas 2016',\n",
       "       'Fallzahl 2016', 'numero di casi 2016', 'nombre de cas 2017',\n",
       "       'Fallzahl 2017', 'numero di casi 2017', 'Fallzahl 2018',\n",
       "       'nombre de cas 2018', 'numero di casi 2018', 'nombre de cas 2019',\n",
       "       'Fallzahl 2019', 'numero di casi 2019', 'nombre de cas 2020',\n",
       "       'Fallzahl 2020', 'numero di casi 2020', 'nombre de cas 2021',\n",
       "       'Fallzahl 2021', 'numero di casi 2021'], dtype=object)"
      ]
     },
     "execution_count": 174,
     "metadata": {},
     "output_type": "execute_result"
    }
   ],
   "source": [
    "# To have an idea of the value to transform\n",
    "value_nb_cases_bizarre"
   ]
  },
  {
   "cell_type": "code",
   "execution_count": 175,
   "id": "cc79a015",
   "metadata": {},
   "outputs": [],
   "source": [
    "## Information about the format of the data in the variable: \n",
    "# From https://spitalstatistik.bagapps.ch/data/download/qip21_publikation.pdf?v=1680713881, page 4\n",
    "\n",
    "# Verwendete Zeichen, wenn keine Zahlenangabe erfolgt\n",
    "# ... Zahl unbekannt, weil (noch) nicht erhoben oder (noch) nicht berechnet\n",
    "# * entfällt, weil trivial oder Begriffe nicht anwendbar\n",
    "# – wird bei gerundeten Zahlen verwendet und steht hier für den Wert absolut null\n",
    "\n",
    "# Signes utilisés en l’absence de chiffres\n",
    "# ... chiffre inconnu (pas [encore] relevé ou pas [encore] calculé)\n",
    "# * non indiqué car évident ou non pertinent\n",
    "# – utilisé pour les chiffres arrondis ; signifie zéro"
   ]
  },
  {
   "cell_type": "code",
   "execution_count": 176,
   "id": "3baf7611",
   "metadata": {},
   "outputs": [],
   "source": [
    "# For \"<10\", I am replacing them by 9\n",
    "df['number_of_cases_2']  = ['9' if x == '<10' else x for x in df['number_of_cases_2'] ]\n",
    "# For \"...\", I am replacing them by nan\n",
    "df['number_of_cases_2']  = ['nan' if x == '...' else x for x in df['number_of_cases_2'] ]\n",
    "# For \"-\", I am replacing them by nan\n",
    "df['number_of_cases_2']  = ['nan' if x == '-' else x for x in df['number_of_cases_2'] ]"
   ]
  },
  {
   "cell_type": "code",
   "execution_count": 177,
   "id": "23a9d929",
   "metadata": {},
   "outputs": [],
   "source": [
    "# We see that many of them are actually name of the column (Fallzahl 2010,nombre de cas 2017, etc). I am deleting them\n",
    "# And creation of a new dataset \n",
    "\n",
    "## Create a Boolean mask to filter the rows to keep\n",
    "masque = ~(df['number_of_cases_2'].str.startswith('nomb') | df['number_of_cases_2'].str.startswith('nume') | df['number_of_cases_2'].str.startswith('Fall'))\n",
    "\n",
    "## Apply the mask to delete the corresponding lines and create a new dataset\n",
    "df_2 = df[masque]"
   ]
  },
  {
   "cell_type": "code",
   "execution_count": 178,
   "id": "df2a0fa4",
   "metadata": {},
   "outputs": [
    {
     "data": {
      "text/plain": [
       "array([' ', 'nan', nan], dtype=object)"
      ]
     },
     "execution_count": 178,
     "metadata": {},
     "output_type": "execute_result"
    }
   ],
   "source": [
    "non_digit_start = df_2[df_2['number_of_cases_2'].apply(lambda x: not re.match(r'^\\d', str(x)))]\n",
    "valeur_nb_cases_bizarre=(non_digit_start['number_of_cases_2'].unique())\n",
    "valeur_nb_cases_bizarre"
   ]
  },
  {
   "cell_type": "code",
   "execution_count": 179,
   "id": "5e89a46f",
   "metadata": {},
   "outputs": [],
   "source": [
    "# We see that we now have number, empty cells and nan"
   ]
  },
  {
   "cell_type": "markdown",
   "id": "dd1de0ce",
   "metadata": {},
   "source": [
    "### 4. Delete nan and empty cells in 'number_of_cases_2' variable "
   ]
  },
  {
   "cell_type": "code",
   "execution_count": 180,
   "id": "238b4e1e",
   "metadata": {},
   "outputs": [],
   "source": [
    "masque = ~(df_2['number_of_cases_2'].str.startswith(' ') | df_2['number_of_cases_2'].str.startswith('nan'))\n",
    "df_3 = df_2[masque]"
   ]
  },
  {
   "cell_type": "code",
   "execution_count": 181,
   "id": "2cb98e65",
   "metadata": {},
   "outputs": [],
   "source": [
    "df_3 = df_3.dropna(subset=['number_of_cases_2'])"
   ]
  },
  {
   "cell_type": "code",
   "execution_count": 182,
   "id": "8c6806c8",
   "metadata": {},
   "outputs": [
    {
     "data": {
      "text/plain": [
       "array([], dtype=object)"
      ]
     },
     "execution_count": 182,
     "metadata": {},
     "output_type": "execute_result"
    }
   ],
   "source": [
    "non_digit_start = df_3[df_3['number_of_cases_2'].apply(lambda x: not re.match(r'^\\d', str(x)))]\n",
    "valeur_nb_cases_bizarre=(non_digit_start['number_of_cases_2'].unique())\n",
    "valeur_nb_cases_bizarre"
   ]
  },
  {
   "cell_type": "code",
   "execution_count": 183,
   "id": "98f7ba86",
   "metadata": {},
   "outputs": [],
   "source": [
    "df_3['number_of_cases_2'] = df_3['number_of_cases_2'].astype(float)"
   ]
  },
  {
   "cell_type": "markdown",
   "id": "f9112d80",
   "metadata": {},
   "source": [
    "### 5. Delete the zero in the 'number_of_cases_2' variable "
   ]
  },
  {
   "cell_type": "code",
   "execution_count": 184,
   "id": "90d802b3",
   "metadata": {},
   "outputs": [],
   "source": [
    "df_4 = df_3[df_3['number_of_cases_2']!= 0.0]"
   ]
  },
  {
   "cell_type": "code",
   "execution_count": 185,
   "id": "14e26c33",
   "metadata": {},
   "outputs": [
    {
     "data": {
      "text/plain": [
       "number_of_cases_2\n",
       "9.0        30502\n",
       "1.0        26696\n",
       "2.0        15930\n",
       "3.0        11534\n",
       "4.0         9290\n",
       "           ...  \n",
       "7868.0         1\n",
       "26870.0        1\n",
       "4499.0         1\n",
       "2409.0         1\n",
       "5309.0         1\n",
       "Name: count, Length: 3995, dtype: int64"
      ]
     },
     "execution_count": 185,
     "metadata": {},
     "output_type": "execute_result"
    }
   ],
   "source": [
    "count_per_value = df_4['number_of_cases_2'] .value_counts()\n",
    "count_per_value # no more zero"
   ]
  },
  {
   "cell_type": "code",
   "execution_count": 186,
   "id": "9a710009",
   "metadata": {
    "scrolled": true
   },
   "outputs": [
    {
     "name": "stdout",
     "output_type": "stream",
     "text": [
      "the shape of the dataset: (943322, 222)\n",
      "the shape of the dataset after the cleaning: (302805, 222)\n"
     ]
    }
   ],
   "source": [
    "print('the shape of the dataset:', df.shape)\n",
    "print('the shape of the dataset after the cleaning:', df_4.shape)"
   ]
  },
  {
   "cell_type": "markdown",
   "id": "9593c8ca",
   "metadata": {},
   "source": [
    "### Save the new dataset"
   ]
  },
  {
   "cell_type": "code",
   "execution_count": 187,
   "id": "2b532986",
   "metadata": {},
   "outputs": [],
   "source": [
    "df_4.to_csv('dataset_clean.csv', index=False)  # Use index=False to omit writing row numbers as index"
   ]
  }
 ],
 "metadata": {
  "kernelspec": {
   "display_name": "Python 3 (ipykernel)",
   "language": "python",
   "name": "python3"
  },
  "language_info": {
   "codemirror_mode": {
    "name": "ipython",
    "version": 3
   },
   "file_extension": ".py",
   "mimetype": "text/x-python",
   "name": "python",
   "nbconvert_exporter": "python",
   "pygments_lexer": "ipython3",
   "version": "3.10.11"
  }
 },
 "nbformat": 4,
 "nbformat_minor": 5
}
