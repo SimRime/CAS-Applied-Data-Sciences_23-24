{
 "cells": [
  {
   "cell_type": "markdown",
   "id": "f693a96e",
   "metadata": {
    "id": "f693a96e"
   },
   "source": [
    "# Final clean up of the dataset"
   ]
  },
  {
   "cell_type": "code",
   "execution_count": 1,
   "id": "5e56c054",
   "metadata": {
    "id": "5e56c054"
   },
   "outputs": [],
   "source": [
    "import numpy as np\n",
    "import matplotlib.pyplot as plt\n",
    "import pandas as pd\n",
    "import io\n",
    "import statsmodels.api as sm\n",
    "from scipy import stats\n",
    "import geopandas as gpd"
   ]
  },
  {
   "cell_type": "code",
   "execution_count": 2,
   "id": "3a3f7273",
   "metadata": {
    "id": "3a3f7273"
   },
   "outputs": [],
   "source": [
    "#Import the cleaned data for 2020 and 2021\n",
    "file_path = 'C:/Users/Gaëlle/Documents/_CAS applied data science/3. Module 3 Data analysis and machine learning/Project/cleaned_dataset.xlsx'\n",
    "df = pd.read_excel(file_path)"
   ]
  },
  {
   "cell_type": "code",
   "execution_count": 3,
   "id": "fb969585",
   "metadata": {
    "id": "fb969585",
    "outputId": "26ee2d23-703d-44c2-9cee-fdf23b12ddad",
    "scrolled": false
   },
   "outputs": [
    {
     "name": "stdout",
     "output_type": "stream",
     "text": [
      "the shape of the final dataset: (301, 404)\n"
     ]
    }
   ],
   "source": [
    "# Do they have the same variables?\n",
    "print('the shape of the final dataset:', df.shape)"
   ]
  },
  {
   "cell_type": "code",
   "execution_count": 4,
   "id": "5a4d750f",
   "metadata": {
    "id": "5a4d750f",
    "scrolled": false
   },
   "outputs": [],
   "source": [
    "column_names=df.columns.tolist()\n",
    "#column_names"
   ]
  },
  {
   "cell_type": "code",
   "execution_count": 5,
   "id": "6fbc473b",
   "metadata": {
    "id": "6fbc473b",
    "outputId": "9beab15c-cddf-4587-e10b-be1e07fd3dda"
   },
   "outputs": [
    {
     "data": {
      "text/html": [
       "<div>\n",
       "<style scoped>\n",
       "    .dataframe tbody tr th:only-of-type {\n",
       "        vertical-align: middle;\n",
       "    }\n",
       "\n",
       "    .dataframe tbody tr th {\n",
       "        vertical-align: top;\n",
       "    }\n",
       "\n",
       "    .dataframe thead th {\n",
       "        text-align: right;\n",
       "    }\n",
       "</style>\n",
       "<table border=\"1\" class=\"dataframe\">\n",
       "  <thead>\n",
       "    <tr style=\"text-align: right;\">\n",
       "      <th></th>\n",
       "      <th>Nom_df2</th>\n",
       "      <th>G.1.4.P/Deliveries</th>\n",
       "      <th>G.1.5.P/Deliveries</th>\n",
       "      <th>G.1.6.P/Deliveries</th>\n",
       "      <th>G.1.7.P/Deliveries</th>\n",
       "      <th>I.1.16.M</th>\n",
       "      <th>A.5.1.F</th>\n",
       "      <th>A.7.14.M</th>\n",
       "      <th>L.6.4.F</th>\n",
       "      <th>KostAWLFA</th>\n",
       "      <th>...</th>\n",
       "      <th>F.2.13.V</th>\n",
       "      <th>A.1.11.M</th>\n",
       "      <th>KostStatA</th>\n",
       "      <th>K.1.3.F</th>\n",
       "      <th>D.1.11.M</th>\n",
       "      <th>H.4.4.M</th>\n",
       "      <th>I.1.13.M</th>\n",
       "      <th>E.4.16.M</th>\n",
       "      <th>StdBelP</th>\n",
       "      <th>F.3.1.V</th>\n",
       "    </tr>\n",
       "  </thead>\n",
       "  <tbody>\n",
       "    <tr>\n",
       "      <th>0</th>\n",
       "      <td>Andreas Klinik</td>\n",
       "      <td>0.537190</td>\n",
       "      <td>0.446281</td>\n",
       "      <td>0.289256</td>\n",
       "      <td>0.157025</td>\n",
       "      <td>14</td>\n",
       "      <td>3</td>\n",
       "      <td>0</td>\n",
       "      <td>0</td>\n",
       "      <td>0.0</td>\n",
       "      <td>...</td>\n",
       "      <td>0</td>\n",
       "      <td>7</td>\n",
       "      <td>42564667.0</td>\n",
       "      <td>0</td>\n",
       "      <td>20</td>\n",
       "      <td>2</td>\n",
       "      <td>0</td>\n",
       "      <td>0</td>\n",
       "      <td>4093.87</td>\n",
       "      <td>0</td>\n",
       "    </tr>\n",
       "    <tr>\n",
       "      <th>1</th>\n",
       "      <td>Bethesda Spital AG</td>\n",
       "      <td>0.361747</td>\n",
       "      <td>0.288226</td>\n",
       "      <td>0.201385</td>\n",
       "      <td>0.086841</td>\n",
       "      <td>0</td>\n",
       "      <td>0</td>\n",
       "      <td>0</td>\n",
       "      <td>0</td>\n",
       "      <td>0.0</td>\n",
       "      <td>...</td>\n",
       "      <td>0</td>\n",
       "      <td>0</td>\n",
       "      <td>55361461.0</td>\n",
       "      <td>1</td>\n",
       "      <td>4</td>\n",
       "      <td>7</td>\n",
       "      <td>0</td>\n",
       "      <td>0</td>\n",
       "      <td>1657.00</td>\n",
       "      <td>0</td>\n",
       "    </tr>\n",
       "    <tr>\n",
       "      <th>2</th>\n",
       "      <td>CHUV Centre Hospitalier Universitaire Vaudois</td>\n",
       "      <td>0.279279</td>\n",
       "      <td>0.167754</td>\n",
       "      <td>0.104070</td>\n",
       "      <td>0.063684</td>\n",
       "      <td>12</td>\n",
       "      <td>192</td>\n",
       "      <td>19</td>\n",
       "      <td>69</td>\n",
       "      <td>30094276.0</td>\n",
       "      <td>...</td>\n",
       "      <td>4</td>\n",
       "      <td>313</td>\n",
       "      <td>696811983.0</td>\n",
       "      <td>8</td>\n",
       "      <td>275</td>\n",
       "      <td>28</td>\n",
       "      <td>0</td>\n",
       "      <td>2</td>\n",
       "      <td>0.00</td>\n",
       "      <td>21</td>\n",
       "    </tr>\n",
       "    <tr>\n",
       "      <th>3</th>\n",
       "      <td>Center da Sanda Engiadina Bassa Ospidal d'Engi...</td>\n",
       "      <td>0.253731</td>\n",
       "      <td>0.208955</td>\n",
       "      <td>0.164179</td>\n",
       "      <td>0.044776</td>\n",
       "      <td>0</td>\n",
       "      <td>1</td>\n",
       "      <td>0</td>\n",
       "      <td>0</td>\n",
       "      <td>428914.0</td>\n",
       "      <td>...</td>\n",
       "      <td>0</td>\n",
       "      <td>5</td>\n",
       "      <td>12237649.0</td>\n",
       "      <td>0</td>\n",
       "      <td>6</td>\n",
       "      <td>0</td>\n",
       "      <td>0</td>\n",
       "      <td>0</td>\n",
       "      <td>0.00</td>\n",
       "      <td>0</td>\n",
       "    </tr>\n",
       "    <tr>\n",
       "      <th>4</th>\n",
       "      <td>Centro Sanitario Valposchiavo Ospedale San Sisto</td>\n",
       "      <td>0.413793</td>\n",
       "      <td>0.275862</td>\n",
       "      <td>0.172414</td>\n",
       "      <td>0.103448</td>\n",
       "      <td>0</td>\n",
       "      <td>0</td>\n",
       "      <td>0</td>\n",
       "      <td>0</td>\n",
       "      <td>18082.0</td>\n",
       "      <td>...</td>\n",
       "      <td>0</td>\n",
       "      <td>5</td>\n",
       "      <td>4395777.0</td>\n",
       "      <td>0</td>\n",
       "      <td>16</td>\n",
       "      <td>0</td>\n",
       "      <td>0</td>\n",
       "      <td>0</td>\n",
       "      <td>0.00</td>\n",
       "      <td>0</td>\n",
       "    </tr>\n",
       "    <tr>\n",
       "      <th>5</th>\n",
       "      <td>Clinica Santa Chiara SA</td>\n",
       "      <td>0.356164</td>\n",
       "      <td>0.278539</td>\n",
       "      <td>0.164384</td>\n",
       "      <td>0.114155</td>\n",
       "      <td>3</td>\n",
       "      <td>1</td>\n",
       "      <td>0</td>\n",
       "      <td>0</td>\n",
       "      <td>0.0</td>\n",
       "      <td>...</td>\n",
       "      <td>0</td>\n",
       "      <td>21</td>\n",
       "      <td>24687076.0</td>\n",
       "      <td>2</td>\n",
       "      <td>37</td>\n",
       "      <td>1</td>\n",
       "      <td>0</td>\n",
       "      <td>0</td>\n",
       "      <td>0.00</td>\n",
       "      <td>0</td>\n",
       "    </tr>\n",
       "    <tr>\n",
       "      <th>6</th>\n",
       "      <td>Clinique Générale-Beaulieu</td>\n",
       "      <td>0.337248</td>\n",
       "      <td>0.270134</td>\n",
       "      <td>0.107383</td>\n",
       "      <td>0.162752</td>\n",
       "      <td>1</td>\n",
       "      <td>0</td>\n",
       "      <td>0</td>\n",
       "      <td>0</td>\n",
       "      <td>0.0</td>\n",
       "      <td>...</td>\n",
       "      <td>0</td>\n",
       "      <td>0</td>\n",
       "      <td>61241070.0</td>\n",
       "      <td>1</td>\n",
       "      <td>0</td>\n",
       "      <td>19</td>\n",
       "      <td>1</td>\n",
       "      <td>0</td>\n",
       "      <td>0.00</td>\n",
       "      <td>0</td>\n",
       "    </tr>\n",
       "    <tr>\n",
       "      <th>7</th>\n",
       "      <td>Clinique de La Source</td>\n",
       "      <td>0.429412</td>\n",
       "      <td>0.347059</td>\n",
       "      <td>0.194118</td>\n",
       "      <td>0.152941</td>\n",
       "      <td>7</td>\n",
       "      <td>82</td>\n",
       "      <td>0</td>\n",
       "      <td>0</td>\n",
       "      <td>0.0</td>\n",
       "      <td>...</td>\n",
       "      <td>0</td>\n",
       "      <td>22</td>\n",
       "      <td>66820513.0</td>\n",
       "      <td>0</td>\n",
       "      <td>8</td>\n",
       "      <td>11</td>\n",
       "      <td>0</td>\n",
       "      <td>0</td>\n",
       "      <td>0.00</td>\n",
       "      <td>0</td>\n",
       "    </tr>\n",
       "    <tr>\n",
       "      <th>8</th>\n",
       "      <td>Clinique des Grangettes SA</td>\n",
       "      <td>0.424550</td>\n",
       "      <td>0.340090</td>\n",
       "      <td>0.168919</td>\n",
       "      <td>0.171171</td>\n",
       "      <td>1</td>\n",
       "      <td>66</td>\n",
       "      <td>0</td>\n",
       "      <td>0</td>\n",
       "      <td>NaN</td>\n",
       "      <td>...</td>\n",
       "      <td>0</td>\n",
       "      <td>4</td>\n",
       "      <td>NaN</td>\n",
       "      <td>0</td>\n",
       "      <td>18</td>\n",
       "      <td>3</td>\n",
       "      <td>0</td>\n",
       "      <td>0</td>\n",
       "      <td>NaN</td>\n",
       "      <td>0</td>\n",
       "    </tr>\n",
       "    <tr>\n",
       "      <th>9</th>\n",
       "      <td>EHC Ensemble hospitalier de la Côte</td>\n",
       "      <td>0.291050</td>\n",
       "      <td>0.239605</td>\n",
       "      <td>0.155039</td>\n",
       "      <td>0.084567</td>\n",
       "      <td>6</td>\n",
       "      <td>28</td>\n",
       "      <td>0</td>\n",
       "      <td>0</td>\n",
       "      <td>0.0</td>\n",
       "      <td>...</td>\n",
       "      <td>0</td>\n",
       "      <td>81</td>\n",
       "      <td>88484895.0</td>\n",
       "      <td>0</td>\n",
       "      <td>100</td>\n",
       "      <td>13</td>\n",
       "      <td>0</td>\n",
       "      <td>0</td>\n",
       "      <td>0.00</td>\n",
       "      <td>1</td>\n",
       "    </tr>\n",
       "  </tbody>\n",
       "</table>\n",
       "<p>10 rows × 404 columns</p>\n",
       "</div>"
      ],
      "text/plain": [
       "                                             Nom_df2  G.1.4.P/Deliveries  \\\n",
       "0                                     Andreas Klinik            0.537190   \n",
       "1                                 Bethesda Spital AG            0.361747   \n",
       "2      CHUV Centre Hospitalier Universitaire Vaudois            0.279279   \n",
       "3  Center da Sanda Engiadina Bassa Ospidal d'Engi...            0.253731   \n",
       "4   Centro Sanitario Valposchiavo Ospedale San Sisto            0.413793   \n",
       "5                            Clinica Santa Chiara SA            0.356164   \n",
       "6                         Clinique Générale-Beaulieu            0.337248   \n",
       "7                              Clinique de La Source            0.429412   \n",
       "8                         Clinique des Grangettes SA            0.424550   \n",
       "9                EHC Ensemble hospitalier de la Côte            0.291050   \n",
       "\n",
       "   G.1.5.P/Deliveries  G.1.6.P/Deliveries  G.1.7.P/Deliveries  I.1.16.M  \\\n",
       "0            0.446281            0.289256            0.157025        14   \n",
       "1            0.288226            0.201385            0.086841         0   \n",
       "2            0.167754            0.104070            0.063684        12   \n",
       "3            0.208955            0.164179            0.044776         0   \n",
       "4            0.275862            0.172414            0.103448         0   \n",
       "5            0.278539            0.164384            0.114155         3   \n",
       "6            0.270134            0.107383            0.162752         1   \n",
       "7            0.347059            0.194118            0.152941         7   \n",
       "8            0.340090            0.168919            0.171171         1   \n",
       "9            0.239605            0.155039            0.084567         6   \n",
       "\n",
       "   A.5.1.F  A.7.14.M  L.6.4.F   KostAWLFA  ...  F.2.13.V  A.1.11.M  \\\n",
       "0        3         0        0         0.0  ...         0         7   \n",
       "1        0         0        0         0.0  ...         0         0   \n",
       "2      192        19       69  30094276.0  ...         4       313   \n",
       "3        1         0        0    428914.0  ...         0         5   \n",
       "4        0         0        0     18082.0  ...         0         5   \n",
       "5        1         0        0         0.0  ...         0        21   \n",
       "6        0         0        0         0.0  ...         0         0   \n",
       "7       82         0        0         0.0  ...         0        22   \n",
       "8       66         0        0         NaN  ...         0         4   \n",
       "9       28         0        0         0.0  ...         0        81   \n",
       "\n",
       "     KostStatA  K.1.3.F  D.1.11.M  H.4.4.M  I.1.13.M  E.4.16.M  StdBelP  \\\n",
       "0   42564667.0        0        20        2         0         0  4093.87   \n",
       "1   55361461.0        1         4        7         0         0  1657.00   \n",
       "2  696811983.0        8       275       28         0         2     0.00   \n",
       "3   12237649.0        0         6        0         0         0     0.00   \n",
       "4    4395777.0        0        16        0         0         0     0.00   \n",
       "5   24687076.0        2        37        1         0         0     0.00   \n",
       "6   61241070.0        1         0       19         1         0     0.00   \n",
       "7   66820513.0        0         8       11         0         0     0.00   \n",
       "8          NaN        0        18        3         0         0      NaN   \n",
       "9   88484895.0        0       100       13         0         0     0.00   \n",
       "\n",
       "   F.3.1.V  \n",
       "0        0  \n",
       "1        0  \n",
       "2       21  \n",
       "3        0  \n",
       "4        0  \n",
       "5        0  \n",
       "6        0  \n",
       "7        0  \n",
       "8        0  \n",
       "9        1  \n",
       "\n",
       "[10 rows x 404 columns]"
      ]
     },
     "execution_count": 5,
     "metadata": {},
     "output_type": "execute_result"
    }
   ],
   "source": [
    "df.head(10)"
   ]
  },
  {
   "cell_type": "markdown",
   "id": "ef5f7988",
   "metadata": {
    "id": "ef5f7988"
   },
   "source": [
    "## String variables"
   ]
  },
  {
   "cell_type": "code",
   "execution_count": 6,
   "id": "2273b2cd",
   "metadata": {
    "id": "2273b2cd"
   },
   "outputs": [],
   "source": [
    "# Identify the variables whose format is character:\n",
    "non_numerical_columns = df.select_dtypes(exclude=['number'])"
   ]
  },
  {
   "cell_type": "code",
   "execution_count": 7,
   "id": "13399343",
   "metadata": {
    "id": "13399343",
    "outputId": "de1a9565-6791-4ee6-d82a-472b8412f62f",
    "scrolled": true
   },
   "outputs": [
    {
     "name": "stdout",
     "output_type": "stream",
     "text": [
      "Index(['Nom_df2', 'Akt', 'SL', 'Typ', 'LA', 'WB', 'KT', 'RForm', 'Adr', 'Ort',\n",
      "       'SA'],\n",
      "      dtype='object')\n"
     ]
    }
   ],
   "source": [
    "print(non_numerical_columns.columns)"
   ]
  },
  {
   "cell_type": "markdown",
   "id": "049def78",
   "metadata": {
    "id": "049def78"
   },
   "source": [
    "String-related variables:\n",
    "- Akt: Type d’activité: « Soins aigus » (A), « Psychiatrie » (P) et « Réadaptation / gériatrie » (R). Les maisons de naissance, indépendantes d’institutions cliniques (B), sont enregistrées sous leur propre type d’activité.\n",
    "- SL: Prestations spécifiques: Indique si l’hôpital exploite un service d’urgence (NF) reconnu ou une unité de soins intensifs (IPS).\n",
    "-Typ: Type de l’établissement: On distingue entre hôpitaux universitaires, hôpitaux de « prise en charge centralisée » (hôpitaux cantonaux), hôpitaux de « soins de base » et cliniques spécialisées (cliniques psychiatriques, cliniques de réadaptation, chirurgie, gynécologie/néonatologie, gériatrie, pédiatrie et cliniques spécialisées diverses) https://www.bfs.admin.ch/bfsstatic/dam/assets/227888/master\n",
    "- LA: Offre de prestation de l’établissement.« Amb » : KS A.02.15 = 1; « Stat » : KS A.02.16 = 1\n",
    "- WB: Formation de base et formation postgrade: Indique si l’hôpital dispose de places de formation de base ou de formation postgrade pour les étudiants en médecine (MSt), les médecins (Arzt) ou autres professionnels de la santé (BGs).\n",
    "- KT: Canton responsable du point de vue administratif de l’hôpital.\n",
    "- RForm: Forme juridique: « Raison individuelle / société » : KS A.03 = 1, 2 « SA / Sàrl » : KS A.03 = 3 à 7 « Association / fondation » : KS A.03 = 8 à 10 « Entreprises publiques » : KS A.03 = 17, 20 à 34\n",
    "- Adr: adresse\n",
    "- Ort: ville\n",
    "- SA: Infrastructure spéciale: Indique si l’hôpital dispose d’appareils et d’équipements spéciaux. Parmi ceux-ci : la résonance magnétique nucléaire (MRI), la tomographie computérisée (CT), la tomographie par émission de positrons (PET), la caméra gamma, incluant la scintigraphie et le scanner SPECT (CC), l’accélérateur linéaire (LB) et le lithotripteur (LITO)."
   ]
  },
  {
   "cell_type": "markdown",
   "id": "c1cdae9c",
   "metadata": {
    "id": "c1cdae9c"
   },
   "source": [
    "=> we could delete Adr and Ort"
   ]
  },
  {
   "cell_type": "markdown",
   "id": "63fda24d",
   "metadata": {
    "id": "63fda24d"
   },
   "source": [
    "## Delete the unrelevant variables"
   ]
  },
  {
   "cell_type": "code",
   "execution_count": 8,
   "id": "1c01b943",
   "metadata": {
    "id": "1c01b943"
   },
   "outputs": [],
   "source": [
    "# Delete uninteresting c-section rates, the address and the city\n",
    "columns_to_drop = ['G.1.5.P/Deliveries', 'G.1.6.P/Deliveries', 'G.1.7.P/Deliveries', 'Adr', 'Ort']\n",
    "df_1 = df.drop(columns=columns_to_drop)"
   ]
  },
  {
   "cell_type": "markdown",
   "id": "0cf3d08e",
   "metadata": {
    "id": "0cf3d08e"
   },
   "source": [
    "## Normalize the variables per beds"
   ]
  },
  {
   "cell_type": "markdown",
   "id": "c4a7f779",
   "metadata": {
    "id": "c4a7f779"
   },
   "source": [
    "### Variables that are percentages already therefore should not be normalized"
   ]
  },
  {
   "cell_type": "code",
   "execution_count": 9,
   "id": "0593eed4",
   "metadata": {
    "id": "0593eed4"
   },
   "outputs": [],
   "source": [
    "columns_between_0_and_1 = []"
   ]
  },
  {
   "cell_type": "code",
   "execution_count": 10,
   "id": "c1570069",
   "metadata": {
    "id": "c1570069"
   },
   "outputs": [],
   "source": [
    "# delete the string variables, but only for this short analysis\n",
    "df_num = df.drop(columns=non_numerical_columns)\n"
   ]
  },
  {
   "cell_type": "code",
   "execution_count": 11,
   "id": "9d0e1f28",
   "metadata": {
    "id": "9d0e1f28"
   },
   "outputs": [],
   "source": [
    "# What are the variables between 0 and 1 (assumption: they are percentages, therefore we can not divide them by the number of beds)\n",
    "for column in df_num.columns:\n",
    "    non_missing_values = df_num[column][df_num[column].notna()]\n",
    "    if (non_missing_values >= 0).all() and (non_missing_values <= 1).all():\n",
    "        columns_between_0_and_1.append(column)"
   ]
  },
  {
   "cell_type": "code",
   "execution_count": 12,
   "id": "c1aa2664",
   "metadata": {
    "id": "c1aa2664",
    "outputId": "c81c4bf9-5fa3-4c38-ed21-e7bb78709066"
   },
   "outputs": [
    {
     "name": "stdout",
     "output_type": "stream",
     "text": [
      "['G.1.4.P/Deliveries', 'G.1.5.P/Deliveries', 'G.1.6.P/Deliveries', 'G.1.7.P/Deliveries', 'pPatLKP', 'L.5.6.F', 'L.1.2.F', 'pPatWAU', 'A.7.21.P', 'L.7.2.F', 'pPatHOK', 'pPatWAK']\n"
     ]
    }
   ],
   "source": [
    "print(columns_between_0_and_1)"
   ]
  },
  {
   "cell_type": "markdown",
   "id": "9e16879b",
   "metadata": {
    "id": "9e16879b"
   },
   "source": [
    "Are these variables really percentages?\n",
    "- the variables with the number of cases are not percentage but they might have only 1 case so the function above is identifing the variable as being a percentage which is not the case.\n",
    "\n",
    "However, those are percentages:\n",
    "- pPatLKP: Pourcentage de patients en division privée ou semi-privée\n",
    "- pPatWAU: Pourcentage de patients avec domicile à l’étranger\n",
    "- pPatHOK: Pourcentage de patients avec AMal obligatoire comme garante principale\n",
    "- pPatWAK: Pourcentage de patients hors canton\n",
    "\n",
    "\n",
    "Other percentages found in the handbook \"Chiffres-clés des hôpitaux suisses\"\n",
    "- pBettenBelStatA : Taux d’occupation des lits\n",
    "- ErlKVGStatVA: part des assureurs (%) Pourcentage du part des assureurs aux produits des prestations à la charge de l’AOS fournies aux patients hospitalisés, exclusivement assurés de base LAMal ; ventilés par type d’activité.\n",
    "- ErlZvOKPStatVA: part des assureurs (%) Pourcentage du part des assureurs aux produits des prestations à la charge de l’AOS fournies aux patients hospitalisés, assurés en complémentaire ; ventilés par type d’activité.\n",
    "\n",
    "=> we need to divide them by 100 because they are in %\n",
    "\n",
    "=> We can not divide these variables per beds as they are already percentage!\n"
   ]
  },
  {
   "cell_type": "code",
   "execution_count": 13,
   "id": "34bd2ef3",
   "metadata": {
    "id": "34bd2ef3"
   },
   "outputs": [],
   "source": [
    "# creation of 3 new variables to make them percentage from 0 to 1 as the rest of the percentages variables\n",
    "df_1['pBettenBelStatA_new']=df_1['pBettenBelStatA']/100\n",
    "df_1['ErlKVGStatVA_new']=df_1['ErlKVGStatVA']/100\n",
    "df_1['ErlZvOKPStatVA_new']=df_1['ErlZvOKPStatVA']/100"
   ]
  },
  {
   "cell_type": "code",
   "execution_count": 14,
   "id": "936b8452",
   "metadata": {
    "id": "936b8452"
   },
   "outputs": [],
   "source": [
    "# Delete the old variables\n",
    "columns_to_drop = ['pBettenBelStatA', 'ErlKVGStatVA', 'ErlZvOKPStatVA']\n",
    "df_2 = df_1.drop(columns=columns_to_drop)"
   ]
  },
  {
   "cell_type": "markdown",
   "id": "52205298",
   "metadata": {
    "id": "52205298"
   },
   "source": [
    "### Normalize over the number of beds"
   ]
  },
  {
   "cell_type": "code",
   "execution_count": 15,
   "id": "07a1ba3f",
   "metadata": {
    "id": "07a1ba3f",
    "outputId": "07707969-a5b2-4d82-e5e6-54a5efdc452b",
    "scrolled": true
   },
   "outputs": [
    {
     "data": {
      "text/plain": [
       "3"
      ]
     },
     "execution_count": 15,
     "metadata": {},
     "output_type": "execute_result"
    }
   ],
   "source": [
    "# Are there hospitals with no informations on the number of beds? If so, we should delete the row:\n",
    "count_na = (df_2['BettenStatA'].isna()).sum()\n",
    "count_na"
   ]
  },
  {
   "cell_type": "code",
   "execution_count": 16,
   "id": "a3154a2a",
   "metadata": {
    "id": "a3154a2a"
   },
   "outputs": [],
   "source": [
    "# 3 hospitals have no information on the number of beds, let's delete them\n",
    "df_2 = df_2.dropna(subset=['BettenStatA'])"
   ]
  },
  {
   "cell_type": "markdown",
   "id": "23104e2c",
   "metadata": {
    "id": "23104e2c"
   },
   "source": [
    "Variables that we cannot divide by the numbers of beds:\n",
    "- the string variables\n",
    "- JAHR\n",
    "- G.1.4.P/Deliveries: our c-section rate\n",
    "- pPatLKP\n",
    "- pPatWAU\n",
    "- pPatHOK\n",
    "- pPatWAK\n",
    "- pBettenBelStatA_new\n",
    "- ErlKVGStatVA_new\n",
    "- ErlZvOKPStatVA_new"
   ]
  },
  {
   "cell_type": "code",
   "execution_count": 17,
   "id": "a810f8d4",
   "metadata": {
    "id": "a810f8d4"
   },
   "outputs": [],
   "source": [
    "# Exclude variables which will not be normalized\n",
    "variables_to_exclude = ['Nom_df2', 'G.1.4.P/Deliveries', 'JAHR','Akt', 'SL', 'Typ', 'LA', 'WB', 'KT', 'RForm', 'SA', 'pPatLKP', 'pPatWAU', 'pPatHOK', 'pPatWAK', 'pBettenBelStatA_new', 'ErlKVGStatVA_new', 'ErlZvOKPStatVA_new']\n",
    "\n",
    "# Variables which will be normalized\n",
    "variables_to_divide = df_2.columns.difference(variables_to_exclude)"
   ]
  },
  {
   "cell_type": "code",
   "execution_count": 18,
   "id": "b641c7c5",
   "metadata": {
    "id": "b641c7c5"
   },
   "outputs": [],
   "source": [
    "# Variable used to make the division: number of beds: BettenStatA\n",
    "## La moyenne des lits à disposition pour l’exploitation correspond au nombre de journées-lits d’exploitation (jours d’exploitation des lits) divisé par le nombre de jour dans l’année (par 365 ou par 366 pour les années bissextiles); ventilée par type d’activité.\n",
    "\n",
    "divisor_variable = 'BettenStatA'"
   ]
  },
  {
   "cell_type": "code",
   "execution_count": 19,
   "id": "52c21257",
   "metadata": {
    "id": "52c21257"
   },
   "outputs": [],
   "source": [
    "# Division\n",
    "df_2[variables_to_divide] = df_2[variables_to_divide].div(df_2[divisor_variable], axis=0)\n"
   ]
  },
  {
   "cell_type": "code",
   "execution_count": 20,
   "id": "8beb90ce",
   "metadata": {
    "id": "8beb90ce",
    "outputId": "df4b76ba-0bb9-4cde-eb37-a0e03484bcee",
    "scrolled": false
   },
   "outputs": [
    {
     "data": {
      "text/html": [
       "<div>\n",
       "<style scoped>\n",
       "    .dataframe tbody tr th:only-of-type {\n",
       "        vertical-align: middle;\n",
       "    }\n",
       "\n",
       "    .dataframe tbody tr th {\n",
       "        vertical-align: top;\n",
       "    }\n",
       "\n",
       "    .dataframe thead th {\n",
       "        text-align: right;\n",
       "    }\n",
       "</style>\n",
       "<table border=\"1\" class=\"dataframe\">\n",
       "  <thead>\n",
       "    <tr style=\"text-align: right;\">\n",
       "      <th></th>\n",
       "      <th>Nom_df2</th>\n",
       "      <th>G.1.4.P/Deliveries</th>\n",
       "      <th>I.1.16.M</th>\n",
       "      <th>A.5.1.F</th>\n",
       "      <th>A.7.14.M</th>\n",
       "      <th>L.6.4.F</th>\n",
       "      <th>KostAWLFA</th>\n",
       "      <th>L.5.5.F</th>\n",
       "      <th>A.7.1.F</th>\n",
       "      <th>D.2.6.P</th>\n",
       "      <th>...</th>\n",
       "      <th>K.1.3.F</th>\n",
       "      <th>D.1.11.M</th>\n",
       "      <th>H.4.4.M</th>\n",
       "      <th>I.1.13.M</th>\n",
       "      <th>E.4.16.M</th>\n",
       "      <th>StdBelP</th>\n",
       "      <th>F.3.1.V</th>\n",
       "      <th>pBettenBelStatA_new</th>\n",
       "      <th>ErlKVGStatVA_new</th>\n",
       "      <th>ErlZvOKPStatVA_new</th>\n",
       "    </tr>\n",
       "  </thead>\n",
       "  <tbody>\n",
       "    <tr>\n",
       "      <th>0</th>\n",
       "      <td>Andreas Klinik</td>\n",
       "      <td>0.537190</td>\n",
       "      <td>0.250000</td>\n",
       "      <td>0.053571</td>\n",
       "      <td>0.000000</td>\n",
       "      <td>0.000000</td>\n",
       "      <td>0.000000</td>\n",
       "      <td>0.00000</td>\n",
       "      <td>0.000000</td>\n",
       "      <td>0.035714</td>\n",
       "      <td>...</td>\n",
       "      <td>0.000000</td>\n",
       "      <td>0.357143</td>\n",
       "      <td>0.035714</td>\n",
       "      <td>0.000000</td>\n",
       "      <td>0.000000</td>\n",
       "      <td>73.104821</td>\n",
       "      <td>0.000000</td>\n",
       "      <td>0.855577</td>\n",
       "      <td>0.450000</td>\n",
       "      <td>0.450000</td>\n",
       "    </tr>\n",
       "    <tr>\n",
       "      <th>1</th>\n",
       "      <td>Bethesda Spital AG</td>\n",
       "      <td>0.361747</td>\n",
       "      <td>0.000000</td>\n",
       "      <td>0.000000</td>\n",
       "      <td>0.000000</td>\n",
       "      <td>0.000000</td>\n",
       "      <td>0.000000</td>\n",
       "      <td>0.00000</td>\n",
       "      <td>0.000000</td>\n",
       "      <td>0.011236</td>\n",
       "      <td>...</td>\n",
       "      <td>0.011236</td>\n",
       "      <td>0.044944</td>\n",
       "      <td>0.078652</td>\n",
       "      <td>0.000000</td>\n",
       "      <td>0.000000</td>\n",
       "      <td>18.617978</td>\n",
       "      <td>0.000000</td>\n",
       "      <td>0.758073</td>\n",
       "      <td>0.459425</td>\n",
       "      <td>0.469809</td>\n",
       "    </tr>\n",
       "    <tr>\n",
       "      <th>2</th>\n",
       "      <td>CHUV Centre Hospitalier Universitaire Vaudois</td>\n",
       "      <td>0.279279</td>\n",
       "      <td>0.013086</td>\n",
       "      <td>0.209378</td>\n",
       "      <td>0.020720</td>\n",
       "      <td>0.075245</td>\n",
       "      <td>32818.185387</td>\n",
       "      <td>0.00000</td>\n",
       "      <td>0.876772</td>\n",
       "      <td>0.093784</td>\n",
       "      <td>...</td>\n",
       "      <td>0.008724</td>\n",
       "      <td>0.299891</td>\n",
       "      <td>0.030534</td>\n",
       "      <td>0.000000</td>\n",
       "      <td>0.002181</td>\n",
       "      <td>0.000000</td>\n",
       "      <td>0.022901</td>\n",
       "      <td>0.828652</td>\n",
       "      <td>0.450000</td>\n",
       "      <td>0.450000</td>\n",
       "    </tr>\n",
       "    <tr>\n",
       "      <th>3</th>\n",
       "      <td>Center da Sanda Engiadina Bassa Ospidal d'Engi...</td>\n",
       "      <td>0.253731</td>\n",
       "      <td>0.000000</td>\n",
       "      <td>0.045455</td>\n",
       "      <td>0.000000</td>\n",
       "      <td>0.000000</td>\n",
       "      <td>19496.090909</td>\n",
       "      <td>0.00000</td>\n",
       "      <td>0.000000</td>\n",
       "      <td>0.045455</td>\n",
       "      <td>...</td>\n",
       "      <td>0.000000</td>\n",
       "      <td>0.272727</td>\n",
       "      <td>0.000000</td>\n",
       "      <td>0.000000</td>\n",
       "      <td>0.000000</td>\n",
       "      <td>0.000000</td>\n",
       "      <td>0.000000</td>\n",
       "      <td>0.729763</td>\n",
       "      <td>0.489951</td>\n",
       "      <td>0.729955</td>\n",
       "    </tr>\n",
       "    <tr>\n",
       "      <th>4</th>\n",
       "      <td>Centro Sanitario Valposchiavo Ospedale San Sisto</td>\n",
       "      <td>0.413793</td>\n",
       "      <td>0.000000</td>\n",
       "      <td>0.000000</td>\n",
       "      <td>0.000000</td>\n",
       "      <td>0.000000</td>\n",
       "      <td>1390.923077</td>\n",
       "      <td>0.00000</td>\n",
       "      <td>0.000000</td>\n",
       "      <td>0.000000</td>\n",
       "      <td>...</td>\n",
       "      <td>0.000000</td>\n",
       "      <td>1.230769</td>\n",
       "      <td>0.000000</td>\n",
       "      <td>0.000000</td>\n",
       "      <td>0.000000</td>\n",
       "      <td>0.000000</td>\n",
       "      <td>0.000000</td>\n",
       "      <td>0.838356</td>\n",
       "      <td>0.450000</td>\n",
       "      <td>0.674666</td>\n",
       "    </tr>\n",
       "    <tr>\n",
       "      <th>...</th>\n",
       "      <td>...</td>\n",
       "      <td>...</td>\n",
       "      <td>...</td>\n",
       "      <td>...</td>\n",
       "      <td>...</td>\n",
       "      <td>...</td>\n",
       "      <td>...</td>\n",
       "      <td>...</td>\n",
       "      <td>...</td>\n",
       "      <td>...</td>\n",
       "      <td>...</td>\n",
       "      <td>...</td>\n",
       "      <td>...</td>\n",
       "      <td>...</td>\n",
       "      <td>...</td>\n",
       "      <td>...</td>\n",
       "      <td>...</td>\n",
       "      <td>...</td>\n",
       "      <td>...</td>\n",
       "      <td>...</td>\n",
       "      <td>...</td>\n",
       "    </tr>\n",
       "    <tr>\n",
       "      <th>296</th>\n",
       "      <td>Stadtspital Triemli</td>\n",
       "      <td>0.372003</td>\n",
       "      <td>0.028060</td>\n",
       "      <td>0.964239</td>\n",
       "      <td>0.104587</td>\n",
       "      <td>0.028060</td>\n",
       "      <td>7868.002823</td>\n",
       "      <td>0.00000</td>\n",
       "      <td>2.066225</td>\n",
       "      <td>0.073976</td>\n",
       "      <td>...</td>\n",
       "      <td>0.002551</td>\n",
       "      <td>0.436203</td>\n",
       "      <td>0.104587</td>\n",
       "      <td>0.000000</td>\n",
       "      <td>0.007653</td>\n",
       "      <td>0.000000</td>\n",
       "      <td>0.025509</td>\n",
       "      <td>0.823716</td>\n",
       "      <td>0.450000</td>\n",
       "      <td>0.450000</td>\n",
       "    </tr>\n",
       "    <tr>\n",
       "      <th>297</th>\n",
       "      <td>Stiftung Spital Muri</td>\n",
       "      <td>0.335303</td>\n",
       "      <td>0.038835</td>\n",
       "      <td>0.000000</td>\n",
       "      <td>0.000000</td>\n",
       "      <td>0.000000</td>\n",
       "      <td>2128.495146</td>\n",
       "      <td>0.00000</td>\n",
       "      <td>0.000000</td>\n",
       "      <td>0.252427</td>\n",
       "      <td>...</td>\n",
       "      <td>0.019417</td>\n",
       "      <td>1.058252</td>\n",
       "      <td>0.087379</td>\n",
       "      <td>0.000000</td>\n",
       "      <td>0.000000</td>\n",
       "      <td>0.000000</td>\n",
       "      <td>0.000000</td>\n",
       "      <td>0.810799</td>\n",
       "      <td>0.450000</td>\n",
       "      <td>0.450000</td>\n",
       "    </tr>\n",
       "    <tr>\n",
       "      <th>298</th>\n",
       "      <td>Universitätsspital Basel</td>\n",
       "      <td>0.370635</td>\n",
       "      <td>0.032764</td>\n",
       "      <td>0.693732</td>\n",
       "      <td>0.029915</td>\n",
       "      <td>0.186610</td>\n",
       "      <td>29373.425926</td>\n",
       "      <td>0.00000</td>\n",
       "      <td>1.041311</td>\n",
       "      <td>0.034188</td>\n",
       "      <td>...</td>\n",
       "      <td>0.018519</td>\n",
       "      <td>0.356125</td>\n",
       "      <td>0.061254</td>\n",
       "      <td>0.009972</td>\n",
       "      <td>0.000000</td>\n",
       "      <td>0.000000</td>\n",
       "      <td>0.019943</td>\n",
       "      <td>0.849967</td>\n",
       "      <td>0.459653</td>\n",
       "      <td>0.453891</td>\n",
       "    </tr>\n",
       "    <tr>\n",
       "      <th>299</th>\n",
       "      <td>Universitätsspital Zürich</td>\n",
       "      <td>0.474082</td>\n",
       "      <td>0.000000</td>\n",
       "      <td>0.498316</td>\n",
       "      <td>0.022602</td>\n",
       "      <td>0.145297</td>\n",
       "      <td>24499.391048</td>\n",
       "      <td>0.00861</td>\n",
       "      <td>0.995556</td>\n",
       "      <td>0.022602</td>\n",
       "      <td>...</td>\n",
       "      <td>0.032288</td>\n",
       "      <td>0.228171</td>\n",
       "      <td>0.013992</td>\n",
       "      <td>0.000000</td>\n",
       "      <td>0.001076</td>\n",
       "      <td>0.000000</td>\n",
       "      <td>0.016144</td>\n",
       "      <td>0.736191</td>\n",
       "      <td>0.450000</td>\n",
       "      <td>0.450000</td>\n",
       "    </tr>\n",
       "    <tr>\n",
       "      <th>300</th>\n",
       "      <td>Zuger Kantonsspital AG</td>\n",
       "      <td>0.341176</td>\n",
       "      <td>0.153333</td>\n",
       "      <td>0.113333</td>\n",
       "      <td>0.000000</td>\n",
       "      <td>0.000000</td>\n",
       "      <td>112.026667</td>\n",
       "      <td>0.00000</td>\n",
       "      <td>0.013333</td>\n",
       "      <td>0.046667</td>\n",
       "      <td>...</td>\n",
       "      <td>0.006667</td>\n",
       "      <td>1.013333</td>\n",
       "      <td>0.153333</td>\n",
       "      <td>0.006667</td>\n",
       "      <td>0.000000</td>\n",
       "      <td>0.000000</td>\n",
       "      <td>0.000000</td>\n",
       "      <td>0.885461</td>\n",
       "      <td>0.457222</td>\n",
       "      <td>0.451331</td>\n",
       "    </tr>\n",
       "  </tbody>\n",
       "</table>\n",
       "<p>298 rows × 399 columns</p>\n",
       "</div>"
      ],
      "text/plain": [
       "                                               Nom_df2  G.1.4.P/Deliveries  \\\n",
       "0                                       Andreas Klinik            0.537190   \n",
       "1                                   Bethesda Spital AG            0.361747   \n",
       "2        CHUV Centre Hospitalier Universitaire Vaudois            0.279279   \n",
       "3    Center da Sanda Engiadina Bassa Ospidal d'Engi...            0.253731   \n",
       "4     Centro Sanitario Valposchiavo Ospedale San Sisto            0.413793   \n",
       "..                                                 ...                 ...   \n",
       "296                                Stadtspital Triemli            0.372003   \n",
       "297                               Stiftung Spital Muri            0.335303   \n",
       "298                           Universitätsspital Basel            0.370635   \n",
       "299                          Universitätsspital Zürich            0.474082   \n",
       "300                             Zuger Kantonsspital AG            0.341176   \n",
       "\n",
       "     I.1.16.M   A.5.1.F  A.7.14.M   L.6.4.F     KostAWLFA  L.5.5.F   A.7.1.F  \\\n",
       "0    0.250000  0.053571  0.000000  0.000000      0.000000  0.00000  0.000000   \n",
       "1    0.000000  0.000000  0.000000  0.000000      0.000000  0.00000  0.000000   \n",
       "2    0.013086  0.209378  0.020720  0.075245  32818.185387  0.00000  0.876772   \n",
       "3    0.000000  0.045455  0.000000  0.000000  19496.090909  0.00000  0.000000   \n",
       "4    0.000000  0.000000  0.000000  0.000000   1390.923077  0.00000  0.000000   \n",
       "..        ...       ...       ...       ...           ...      ...       ...   \n",
       "296  0.028060  0.964239  0.104587  0.028060   7868.002823  0.00000  2.066225   \n",
       "297  0.038835  0.000000  0.000000  0.000000   2128.495146  0.00000  0.000000   \n",
       "298  0.032764  0.693732  0.029915  0.186610  29373.425926  0.00000  1.041311   \n",
       "299  0.000000  0.498316  0.022602  0.145297  24499.391048  0.00861  0.995556   \n",
       "300  0.153333  0.113333  0.000000  0.000000    112.026667  0.00000  0.013333   \n",
       "\n",
       "      D.2.6.P  ...   K.1.3.F  D.1.11.M   H.4.4.M  I.1.13.M  E.4.16.M  \\\n",
       "0    0.035714  ...  0.000000  0.357143  0.035714  0.000000  0.000000   \n",
       "1    0.011236  ...  0.011236  0.044944  0.078652  0.000000  0.000000   \n",
       "2    0.093784  ...  0.008724  0.299891  0.030534  0.000000  0.002181   \n",
       "3    0.045455  ...  0.000000  0.272727  0.000000  0.000000  0.000000   \n",
       "4    0.000000  ...  0.000000  1.230769  0.000000  0.000000  0.000000   \n",
       "..        ...  ...       ...       ...       ...       ...       ...   \n",
       "296  0.073976  ...  0.002551  0.436203  0.104587  0.000000  0.007653   \n",
       "297  0.252427  ...  0.019417  1.058252  0.087379  0.000000  0.000000   \n",
       "298  0.034188  ...  0.018519  0.356125  0.061254  0.009972  0.000000   \n",
       "299  0.022602  ...  0.032288  0.228171  0.013992  0.000000  0.001076   \n",
       "300  0.046667  ...  0.006667  1.013333  0.153333  0.006667  0.000000   \n",
       "\n",
       "       StdBelP   F.3.1.V  pBettenBelStatA_new  ErlKVGStatVA_new  \\\n",
       "0    73.104821  0.000000             0.855577          0.450000   \n",
       "1    18.617978  0.000000             0.758073          0.459425   \n",
       "2     0.000000  0.022901             0.828652          0.450000   \n",
       "3     0.000000  0.000000             0.729763          0.489951   \n",
       "4     0.000000  0.000000             0.838356          0.450000   \n",
       "..         ...       ...                  ...               ...   \n",
       "296   0.000000  0.025509             0.823716          0.450000   \n",
       "297   0.000000  0.000000             0.810799          0.450000   \n",
       "298   0.000000  0.019943             0.849967          0.459653   \n",
       "299   0.000000  0.016144             0.736191          0.450000   \n",
       "300   0.000000  0.000000             0.885461          0.457222   \n",
       "\n",
       "     ErlZvOKPStatVA_new  \n",
       "0              0.450000  \n",
       "1              0.469809  \n",
       "2              0.450000  \n",
       "3              0.729955  \n",
       "4              0.674666  \n",
       "..                  ...  \n",
       "296            0.450000  \n",
       "297            0.450000  \n",
       "298            0.453891  \n",
       "299            0.450000  \n",
       "300            0.451331  \n",
       "\n",
       "[298 rows x 399 columns]"
      ]
     },
     "execution_count": 20,
     "metadata": {},
     "output_type": "execute_result"
    }
   ],
   "source": [
    "df_2"
   ]
  },
  {
   "cell_type": "code",
   "execution_count": 21,
   "id": "94eeaaa9",
   "metadata": {
    "id": "94eeaaa9"
   },
   "outputs": [],
   "source": [
    "columns_to_drop = ['BettenStatA']\n",
    "df_3 = df_2.drop(columns=columns_to_drop)"
   ]
  },
  {
   "cell_type": "code",
   "execution_count": 22,
   "id": "3d094b91",
   "metadata": {
    "id": "3d094b91",
    "outputId": "8ddc3d6f-d114-4520-ae93-c5c692fd2029",
    "scrolled": true
   },
   "outputs": [
    {
     "name": "stdout",
     "output_type": "stream",
     "text": [
      "The shape of our final dataset is: (298, 398)\n"
     ]
    }
   ],
   "source": [
    "print('The shape of our final dataset is:', df_3.shape)"
   ]
  },
  {
   "cell_type": "code",
   "execution_count": 23,
   "id": "2ee056cf",
   "metadata": {
    "id": "2ee056cf"
   },
   "outputs": [],
   "source": [
    "df_3.rename(columns={'G.1.4.P/Deliveries': 'c_section_rate', 'Nom_df2': 'name_hosp'}, inplace=True)\n"
   ]
  },
  {
   "cell_type": "markdown",
   "id": "7ce4b91d",
   "metadata": {
    "id": "7ce4b91d"
   },
   "source": [
    "# New dataset with a new variable (c-section rate above or below 0.32)\n",
    "## Create the threshold variable"
   ]
  },
  {
   "cell_type": "code",
   "execution_count": 29,
   "id": "a82592b9",
   "metadata": {
    "id": "a82592b9"
   },
   "outputs": [],
   "source": [
    "df= pd.concat([df_3, df_3['c_section_rate'].apply(lambda x: 0 if x < 0.32 else 1).rename('threshold')], axis=1)"
   ]
  },
  {
   "cell_type": "markdown",
   "id": "da2883da",
   "metadata": {
    "id": "da2883da"
   },
   "source": [
    "if the c-section rate is above 0.32% then the variable threshold gets 1, 0 otherwise"
   ]
  },
  {
   "cell_type": "code",
   "execution_count": 30,
   "id": "HdaTZLaRG4hz",
   "metadata": {
    "colab": {
     "base_uri": "https://localhost:8080/"
    },
    "executionInfo": {
     "elapsed": 20463,
     "status": "ok",
     "timestamp": 1700239932937,
     "user": {
      "displayName": "Lenja Flütsch",
      "userId": "13076562399850223484"
     },
     "user_tz": -60
    },
    "id": "HdaTZLaRG4hz",
    "outputId": "75234e66-7ec8-43b8-c153-86806a0ac46e"
   },
   "outputs": [],
   "source": [
    "#from google.colab import drive\n",
    "#drive.mount('/content/drive', force_remount=True)"
   ]
  },
  {
   "cell_type": "code",
   "execution_count": 31,
   "id": "rp6CTH4uG5Q6",
   "metadata": {
    "executionInfo": {
     "elapsed": 4902,
     "status": "ok",
     "timestamp": 1700239953771,
     "user": {
      "displayName": "Lenja Flütsch",
      "userId": "13076562399850223484"
     },
     "user_tz": -60
    },
    "id": "rp6CTH4uG5Q6"
   },
   "outputs": [],
   "source": [
    "#file_path = '/content/drive/MyDrive/Module 3/dataset_final_threshold.xlsx'\n",
    "#df = pd.read_excel(file_path)"
   ]
  },
  {
   "cell_type": "markdown",
   "id": "U6CJ9AVuG-Fi",
   "metadata": {
    "id": "U6CJ9AVuG-Fi"
   },
   "source": [
    "# Preprocessing data for Decision trees:\n",
    "\n",
    "1. Dealing with NaN\n",
    "2. Dealing with Strings"
   ]
  },
  {
   "cell_type": "markdown",
   "id": "iuBt47xQHA0X",
   "metadata": {
    "id": "iuBt47xQHA0X"
   },
   "source": [
    "## 1. Dealing with NaN"
   ]
  },
  {
   "cell_type": "code",
   "execution_count": 32,
   "id": "bSMxpckXHB1x",
   "metadata": {
    "colab": {
     "base_uri": "https://localhost:8080/"
    },
    "executionInfo": {
     "elapsed": 10,
     "status": "ok",
     "timestamp": 1700239953771,
     "user": {
      "displayName": "Lenja Flütsch",
      "userId": "13076562399850223484"
     },
     "user_tz": -60
    },
    "id": "bSMxpckXHB1x",
    "outputId": "32582d4a-2f8c-4d37-ef34-c6ca5c21fd0e"
   },
   "outputs": [
    {
     "name": "stdout",
     "output_type": "stream",
     "text": [
      "Columns with NaN values:\n",
      "Index(['KostAWLFA', 'KostForLFA', 'SL', 'EtDef', 'pCT_AMB', 'WB', 'pCT_STAT',\n",
      "       'CMIb', 'PersAWB', 'CMIn', 'KostWBLFA', 'pMRI_AMB', 'pMRI_STAT', 'SA',\n",
      "       'ErlKVGStatVA_new', 'ErlZvOKPStatVA_new'],\n",
      "      dtype='object')\n",
      "Sum of NaN values for each column:\n",
      "KostAWLFA              1\n",
      "KostForLFA             1\n",
      "SL                    23\n",
      "EtDef                 77\n",
      "pCT_AMB               19\n",
      "WB                     6\n",
      "pCT_STAT              18\n",
      "CMIb                  81\n",
      "PersAWB               77\n",
      "CMIn                  81\n",
      "KostWBLFA              1\n",
      "pMRI_AMB              46\n",
      "pMRI_STAT             46\n",
      "SA                    11\n",
      "ErlKVGStatVA_new       4\n",
      "ErlZvOKPStatVA_new    10\n",
      "dtype: int64\n"
     ]
    }
   ],
   "source": [
    "nan_columns = df.columns[df.isnull().any()]\n",
    "print(\"Columns with NaN values:\")\n",
    "print(nan_columns)\n",
    "nan_sum = df[nan_columns].isnull().sum()\n",
    "print(\"Sum of NaN values for each column:\")\n",
    "print(nan_sum)"
   ]
  },
  {
   "cell_type": "markdown",
   "id": "2A7LSef-HKw1",
   "metadata": {
    "id": "2A7LSef-HKw1"
   },
   "source": [
    "**Variables that contain NaN values:**\n",
    "\n",
    "KostAWLFA              1 - Kosten der universitären Lehre zur Ausbildung\n",
    "\n",
    "\n",
    "---\n",
    "\n",
    "\n",
    "KostForLFA             1 - Kosten der universitären Forschung\n",
    "\n",
    "---\n",
    "\n",
    "\n",
    "EtDef                 77 - Alle finanziellen Unterstützungen durch die öffentliche Hand oder privatrechtliche Organisationen wie Reserven, Gemeinde, Kantone, Bund, Private Rechtsträger in Form von allfälligen separat ausgewiesenen Defizitdeckungen.\n",
    "\n",
    "---\n",
    "\n",
    "\n",
    "pCT_AMB               19 - Anzahl CT Untersuchungen pro CT-Scanner, ambulant\n",
    "\n",
    "---\n",
    "\n",
    "\n",
    "pCT_STAT              18 - Anzahl CT Untersuchungen pro CT-Scanner, stationär\n",
    "\n",
    "\n",
    "---\n",
    "\n",
    "\n",
    "CMIb                  81 - Roher mittlerer Schweregrad der behandelten stationären Fälle, ohne Kompensation der Outlier, die eine Aufenthaltsdauer ausserhalb der erwarteten Grenzen haben; ausgewiesen pro Aktivitätstyp\n",
    "\n",
    "\n",
    "---\n",
    "\n",
    "\n",
    "PersAWB               77 - Ärzte in Weiterbildung\n",
    "\n",
    "\n",
    "\n",
    "---\n",
    "\n",
    "\n",
    "CMIn                  81 - Casemix Index (CMI) netto\n",
    "\n",
    "\n",
    "\n",
    "---\n",
    "\n",
    "KostWBLFA              1 - Kosten Weiterbildung\n",
    "\n",
    "\n",
    "\n",
    "---\n",
    "\n",
    "\n",
    "pMRI_AMB              46 - Anzahl MRI Untersuchungen pro MRI-Scanner, ambulant\n",
    "\n",
    "\n",
    "\n",
    "---\n",
    "\n",
    "\n",
    "pMRI_STAT             46 - Anzahl MRI Untersuchungen pro MRI-Scanner, stationär\n",
    "\n",
    "\n",
    "\n",
    "---\n",
    "\n",
    "\n",
    "\n",
    "ErlKVGStatVA_new       4 - Anteil der Versicherer am Erlös aus Leistungen zulasten der OKP an Patienten mit stationärem Aufenthalt\n",
    "\n",
    "\n",
    "\n",
    "---\n",
    "\n",
    "\n",
    "\n",
    "ErlZvOKPStatVA_new    10 - Anteil der Versicherer am Erlös aus Leistungen an zusatzversicherten Patienten mit stationärem Aufenthalt"
   ]
  },
  {
   "cell_type": "markdown",
   "id": "rP4aClAQHLif",
   "metadata": {
    "id": "rP4aClAQHLif"
   },
   "source": [
    "**Procedure:** We now have much less missing values, however there are still some left. Let's check which hospitals have NaN values left."
   ]
  },
  {
   "cell_type": "code",
   "execution_count": 33,
   "id": "ZPLv2ZXyHESA",
   "metadata": {
    "colab": {
     "base_uri": "https://localhost:8080/"
    },
    "executionInfo": {
     "elapsed": 403,
     "status": "ok",
     "timestamp": 1700239954167,
     "user": {
      "displayName": "Lenja Flütsch",
      "userId": "13076562399850223484"
     },
     "user_tz": -60
    },
    "id": "ZPLv2ZXyHESA",
    "outputId": "69d10a5a-9c35-4dd8-8eb3-2817dbbd9de6"
   },
   "outputs": [
    {
     "name": "stdout",
     "output_type": "stream",
     "text": [
      "Row 0: 'name_hosp' value is Andreas Klinik - Contains NaN\n",
      "Row 1: 'name_hosp' value is Bethesda Spital AG - Contains NaN\n",
      "Row 2: 'name_hosp' value is CHUV Centre Hospitalier Universitaire Vaudois - Contains NaN\n",
      "Row 3: 'name_hosp' value is Center da Sanda Engiadina Bassa Ospidal d'Engiadina Bassa - Contains NaN\n",
      "Row 4: 'name_hosp' value is Centro Sanitario Valposchiavo Ospedale San Sisto - Contains NaN\n",
      "Row 5: 'name_hosp' value is Clinica Santa Chiara SA - Contains NaN\n",
      "Row 6: 'name_hosp' value is Clinique Générale-Beaulieu - Contains NaN\n",
      "Row 7: 'name_hosp' value is Clinique de La Source - Contains NaN\n",
      "Row 9: 'name_hosp' value is EHC Ensemble hospitalier de la Côte - Contains NaN\n",
      "Row 10: 'name_hosp' value is EOC Ente ospedaliero cantonale - Contains NaN\n",
      "Row 11: 'name_hosp' value is Etablissements Hospitaliers du Nord Vaudois (eHnv) - Contains NaN\n",
      "Row 12: 'name_hosp' value is Flury Stiftung Spital Schiers - Contains NaN\n",
      "Row 13: 'name_hosp' value is GZO Spital Wetzikon - Contains NaN\n",
      "Row 14: 'name_hosp' value is Gesundheitszentrum Fricktal - Contains NaN\n",
      "Row 15: 'name_hosp' value is Groupement Hospitalier de l'Ouest Lémanique (GHOL) SA - Contains NaN\n",
      "Row 16: 'name_hosp' value is HFR - Hôpital fribourgeois - Contains NaN\n",
      "Row 17: 'name_hosp' value is Hirslanden Bern AG - Contains NaN\n",
      "Row 18: 'name_hosp' value is Hirslanden Klinik Aarau - Contains NaN\n",
      "Row 19: 'name_hosp' value is Hirslanden Klinik Linde AG - Contains NaN\n",
      "Row 20: 'name_hosp' value is Hirslanden Klinik St. Anna AG - Contains NaN\n",
      "Row 21: 'name_hosp' value is Hirslanden Klinik Stephanshorn - Contains NaN\n",
      "Row 22: 'name_hosp' value is Hirslanden Lausanne SA - Contains NaN\n",
      "Row 23: 'name_hosp' value is Hôpital Intercantonal de la Broye (HIB) - Contains NaN\n",
      "Row 24: 'name_hosp' value is Hôpital Jules Daler - Contains NaN\n",
      "Row 25: 'name_hosp' value is Hôpital Riviera-Chablais Vaud-Valais - Contains NaN\n",
      "Row 26: 'name_hosp' value is Hôpital de la Tour - Contains NaN\n",
      "Row 27: 'name_hosp' value is Hôpital du Jura - Contains NaN\n",
      "Row 28: 'name_hosp' value is Hôpital du Jura bernois SA - Contains NaN\n",
      "Row 29: 'name_hosp' value is Insel Gruppe AG (nicht-universitär) - Contains NaN\n",
      "Row 30: 'name_hosp' value is Insel Gruppe AG (universitär) - Contains NaN\n",
      "Row 31: 'name_hosp' value is Kantonsspital Aarau AG - Contains NaN\n",
      "Row 32: 'name_hosp' value is Kantonsspital Baden AG - Contains NaN\n",
      "Row 33: 'name_hosp' value is Kantonsspital Baselland - Contains NaN\n",
      "Row 34: 'name_hosp' value is Kantonsspital Glarus - Contains NaN\n",
      "Row 35: 'name_hosp' value is Kantonsspital Graubünden - Contains NaN\n",
      "Row 36: 'name_hosp' value is Kantonsspital Nidwalden - Contains NaN\n",
      "Row 37: 'name_hosp' value is Kantonsspital Obwalden - Contains NaN\n",
      "Row 38: 'name_hosp' value is Kantonsspital St. Gallen - Contains NaN\n",
      "Row 39: 'name_hosp' value is Kantonsspital Uri - Contains NaN\n",
      "Row 40: 'name_hosp' value is Kantonsspital Winterthur - Contains NaN\n",
      "Row 41: 'name_hosp' value is Klinik Hirslanden AG - Contains NaN\n",
      "Row 42: 'name_hosp' value is Klinik Im Park - Contains NaN\n",
      "Row 43: 'name_hosp' value is Les Hôpitaux Universitaires de Genève HUG - Contains NaN\n",
      "Row 44: 'name_hosp' value is Luzerner Kantonsspital - Contains NaN\n",
      "Row 45: 'name_hosp' value is Paracelsus-Spital Richterswil AG - Contains NaN\n",
      "Row 46: 'name_hosp' value is Privatklinik Bethanien - GSMN Schweiz AG - Contains NaN\n",
      "Row 47: 'name_hosp' value is Regionalspital Emmental AG - Contains NaN\n",
      "Row 48: 'name_hosp' value is Regionalspital Surselva AG - Contains NaN\n",
      "Row 49: 'name_hosp' value is SMN - Clinica Sant'Anna - Contains NaN\n",
      "Row 50: 'name_hosp' value is SMN - Klinik Villa im Park - Contains NaN\n",
      "Row 51: 'name_hosp' value is See-Spital - Contains NaN\n",
      "Row 52: 'name_hosp' value is Solothurner Spitäler AG - Contains NaN\n",
      "Row 53: 'name_hosp' value is Spital Affoltern - Contains NaN\n",
      "Row 54: 'name_hosp' value is Spital Bülach AG - Contains NaN\n",
      "Row 55: 'name_hosp' value is Spital Davos AG Akutabteilung - Contains NaN\n",
      "Row 56: 'name_hosp' value is Spital Einsiedeln - Contains NaN\n",
      "Row 57: 'name_hosp' value is Spital Lachen - Contains NaN\n",
      "Row 58: 'name_hosp' value is Spital Limmattal - Contains NaN\n",
      "Row 59: 'name_hosp' value is Spital Linth - Contains NaN\n",
      "Row 60: 'name_hosp' value is Spital Männedorf AG - Contains NaN\n",
      "Row 61: 'name_hosp' value is Spital Oberengadin - Contains NaN\n",
      "Row 62: 'name_hosp' value is Spital STS AG - Contains NaN\n",
      "Row 63: 'name_hosp' value is Spital Schwyz - Contains NaN\n",
      "Row 64: 'name_hosp' value is Spital Thurgau AG Kantonsspitäler Frauenfeld & Münsterlingen - Contains NaN\n",
      "Row 65: 'name_hosp' value is Spital Thusis - Contains NaN\n",
      "Row 66: 'name_hosp' value is Spital Uster - Contains NaN\n",
      "Row 67: 'name_hosp' value is Spital Wallis - Spitalzentrum Oberwallis (SZO) - Contains NaN\n",
      "Row 68: 'name_hosp' value is Spital Zollikerberg - Contains NaN\n",
      "Row 69: 'name_hosp' value is Spitalregion Fürstenland Toggenburg - Contains NaN\n",
      "Row 70: 'name_hosp' value is Spitalregion Rheintal Werdenberg Sarganserland - Contains NaN\n",
      "Row 71: 'name_hosp' value is Spitalzentrum Biel AG - Contains NaN\n",
      "Row 72: 'name_hosp' value is Spitäler Frutigen Meiringen Interlaken AG - Contains NaN\n",
      "Row 73: 'name_hosp' value is Spitäler Schaffhausen - Contains NaN\n",
      "Row 74: 'name_hosp' value is Stadtspital Triemli - Contains NaN\n",
      "Row 75: 'name_hosp' value is Universitätsspital Basel - Contains NaN\n",
      "Row 76: 'name_hosp' value is Universitätsspital Zürich - Contains NaN\n",
      "Row 77: 'name_hosp' value is Zuger Kantonsspital AG - Contains NaN\n",
      "Row 78: 'name_hosp' value is Asana Spital Leuggern AG - Contains NaN\n",
      "Row 79: 'name_hosp' value is Bethesda Spital AG - Contains NaN\n",
      "Row 81: 'name_hosp' value is Center da Sanda Engiadina Bassa Ospidal d'Engiadina Bassa - Contains NaN\n",
      "Row 82: 'name_hosp' value is Centro Sanitario Valposchiavo Ospedale San Sisto - Contains NaN\n",
      "Row 84: 'name_hosp' value is Clinique de La Source - Contains NaN\n",
      "Row 85: 'name_hosp' value is Clinique des Grangettes SA - Contains NaN\n",
      "Row 99: 'name_hosp' value is Hirslanden Klinik St. Anna AG Hirslanden Klinik Meggen - Contains NaN\n",
      "Row 119: 'name_hosp' value is Privatklinik Bethanien - GSMN Schweiz AG - Contains NaN\n",
      "Row 123: 'name_hosp' value is Spital Davos AG Akutabteilung - Contains NaN\n",
      "Row 134: 'name_hosp' value is Spitäler Frutigen Meiringen Interlaken AG - Contains NaN\n",
      "Row 135: 'name_hosp' value is Spitäler Frutigen Meiringen Interlaken AG - Contains NaN\n",
      "Row 138: 'name_hosp' value is AMEOS Spital Einsiedeln AG - Contains NaN\n",
      "Row 140: 'name_hosp' value is Asana Spital Leuggern AG - Contains NaN\n",
      "Row 141: 'name_hosp' value is Bethesda Spital AG - Contains NaN\n",
      "Row 143: 'name_hosp' value is Center da Sanda Engiadina Bassa Ospidal d'Engiadina Bassa - Contains NaN\n",
      "Row 144: 'name_hosp' value is Centro Sanitario Valposchiavo Ospedale San Sisto - Contains NaN\n",
      "Row 146: 'name_hosp' value is Clinique Générale-Beaulieu - Contains NaN\n",
      "Row 147: 'name_hosp' value is Clinique de La Source - Contains NaN\n",
      "Row 148: 'name_hosp' value is Clinique des Grangettes SA - Contains NaN\n",
      "Row 164: 'name_hosp' value is Hôpital Jules Daler - Contains NaN\n",
      "Row 166: 'name_hosp' value is Hôpital de la Tour - Contains NaN\n",
      "Row 187: 'name_hosp' value is Paracelsus-Spital Richterswil AG - Contains NaN\n",
      "Row 188: 'name_hosp' value is Privatklinik Bethanien - GSMN Schweiz AG - Contains NaN\n",
      "Row 196: 'name_hosp' value is Spital Bülach AG - Contains NaN\n",
      "Row 197: 'name_hosp' value is Spital Davos AG Akutabteilung - Contains NaN\n",
      "Row 201: 'name_hosp' value is Spital Männedorf AG - Contains NaN\n",
      "Row 206: 'name_hosp' value is Spital Uster - Contains NaN\n",
      "Row 211: 'name_hosp' value is Spitalverbund Appenzell Ausserrhoden, Akutsomatisches Spital Heiden/Herisau - Contains NaN\n",
      "Row 213: 'name_hosp' value is Spitäler Frutigen Meiringen Interlaken AG - Contains NaN\n",
      "Row 214: 'name_hosp' value is Spitäler Schaffhausen - Contains NaN\n",
      "Row 220: 'name_hosp' value is AMEOS Spital Einsiedeln AG - Contains NaN\n",
      "Row 221: 'name_hosp' value is Andreas Klinik - Contains NaN\n",
      "Row 222: 'name_hosp' value is Asana Spital Leuggern AG - Contains NaN\n",
      "Row 223: 'name_hosp' value is Bethesda Spital AG - Contains NaN\n",
      "Row 224: 'name_hosp' value is CHUV Centre Hospitalier Universitaire Vaudois - Contains NaN\n",
      "Row 225: 'name_hosp' value is Center da Sanda Engiadina Bassa Ospidal d'Engiadina Bassa - Contains NaN\n",
      "Row 226: 'name_hosp' value is Clinica Luganese Moncucco SA Clinica Santa Chiara SA - Contains NaN\n",
      "Row 227: 'name_hosp' value is Clinique Générale-Beaulieu - Contains NaN\n",
      "Row 228: 'name_hosp' value is Clinique de La Source - Contains NaN\n",
      "Row 229: 'name_hosp' value is Clinique des Grangettes SA - Contains NaN\n",
      "Row 230: 'name_hosp' value is EHC Ensemble hospitalier de la Côte - Contains NaN\n",
      "Row 231: 'name_hosp' value is EOC Ente ospedaliero cantonale - Contains NaN\n",
      "Row 232: 'name_hosp' value is Etablissements Hospitaliers du Nord Vaudois (eHnv) - Contains NaN\n",
      "Row 233: 'name_hosp' value is Flury Stiftung Spital Schiers - Contains NaN\n",
      "Row 234: 'name_hosp' value is GSMN Schweiz AG - Privatklinik Bethanien - Contains NaN\n",
      "Row 235: 'name_hosp' value is GZO Spital Wetzikon - Contains NaN\n",
      "Row 236: 'name_hosp' value is Gesundheitszentrum Fricktal - Contains NaN\n",
      "Row 237: 'name_hosp' value is Groupement Hospitalier de l'Ouest Lémanique (GHOL) SA - Contains NaN\n",
      "Row 238: 'name_hosp' value is HFR - Hôpital fribourgeois - Contains NaN\n",
      "Row 239: 'name_hosp' value is Hirslanden Bern AG - Contains NaN\n",
      "Row 240: 'name_hosp' value is Hirslanden Klinik Aarau - Contains NaN\n",
      "Row 241: 'name_hosp' value is Hirslanden Klinik Linde AG - Contains NaN\n",
      "Row 242: 'name_hosp' value is Hirslanden Klinik St. Anna AG - Contains NaN\n",
      "Row 243: 'name_hosp' value is Hirslanden Klinik Stephanshorn - Contains NaN\n",
      "Row 244: 'name_hosp' value is Hirslanden Lausanne SA - Contains NaN\n",
      "Row 245: 'name_hosp' value is Hôpital Intercantonal de la Broye (HIB) - Contains NaN\n",
      "Row 246: 'name_hosp' value is Hôpital Jules Daler - Contains NaN\n",
      "Row 247: 'name_hosp' value is Hôpital Riviera-Chablais Vaud-Valais - Contains NaN\n",
      "Row 248: 'name_hosp' value is Hôpital de la Tour - Contains NaN\n",
      "Row 249: 'name_hosp' value is Hôpital du Jura - Contains NaN\n",
      "Row 250: 'name_hosp' value is Hôpital du Jura bernois SA - Contains NaN\n",
      "Row 251: 'name_hosp' value is Hôpital du Valais - Centre hospitalier du Valais Romand CHVR - Contains NaN\n",
      "Row 252: 'name_hosp' value is Insel Gruppe AG (nicht-universitär) - Contains NaN\n",
      "Row 253: 'name_hosp' value is Insel Gruppe AG (universitär) - Contains NaN\n",
      "Row 254: 'name_hosp' value is Kantonsspital Aarau AG - Contains NaN\n",
      "Row 255: 'name_hosp' value is Kantonsspital Baden AG - Contains NaN\n",
      "Row 256: 'name_hosp' value is Kantonsspital Baselland - Contains NaN\n",
      "Row 257: 'name_hosp' value is Kantonsspital Glarus - Contains NaN\n",
      "Row 258: 'name_hosp' value is Kantonsspital Graubünden - Contains NaN\n",
      "Row 259: 'name_hosp' value is Kantonsspital Obwalden - Contains NaN\n",
      "Row 260: 'name_hosp' value is Kantonsspital St. Gallen - Contains NaN\n",
      "Row 261: 'name_hosp' value is Kantonsspital Uri - Contains NaN\n",
      "Row 262: 'name_hosp' value is Kantonsspital Winterthur - Contains NaN\n",
      "Row 263: 'name_hosp' value is Klinik Hirslanden AG - Contains NaN\n",
      "Row 264: 'name_hosp' value is Klinik Im Park - Contains NaN\n",
      "Row 265: 'name_hosp' value is LUKS Spitalbetriebe AG - Contains NaN\n",
      "Row 266: 'name_hosp' value is Les Hôpitaux Universitaires de Genève HUG - Contains NaN\n",
      "Row 267: 'name_hosp' value is Lindenhofgruppe AG - Contains NaN\n",
      "Row 268: 'name_hosp' value is Regionalspital Emmental AG - Contains NaN\n",
      "Row 269: 'name_hosp' value is Regionalspital Surselva AG - Contains NaN\n",
      "Row 270: 'name_hosp' value is Réseau hospitalier neuchâtelois RHNe - Contains NaN\n",
      "Row 271: 'name_hosp' value is SMN - Clinica Sant'Anna - Contains NaN\n",
      "Row 272: 'name_hosp' value is SRO AG - Contains NaN\n",
      "Row 273: 'name_hosp' value is See-Spital - Contains NaN\n",
      "Row 274: 'name_hosp' value is Solothurner Spitäler AG - Contains NaN\n",
      "Row 275: 'name_hosp' value is Spital Bülach AG - Contains NaN\n",
      "Row 276: 'name_hosp' value is Spital Davos AG Akutabteilung - Contains NaN\n",
      "Row 277: 'name_hosp' value is Spital Lachen - Contains NaN\n",
      "Row 278: 'name_hosp' value is Spital Limmattal - Contains NaN\n",
      "Row 279: 'name_hosp' value is Spital Linth - Contains NaN\n",
      "Row 280: 'name_hosp' value is Spital Männedorf AG - Contains NaN\n",
      "Row 281: 'name_hosp' value is Spital Nidwalden AG - Contains NaN\n",
      "Row 282: 'name_hosp' value is Spital Oberengadin - Contains NaN\n",
      "Row 283: 'name_hosp' value is Spital STS AG - Contains NaN\n",
      "Row 284: 'name_hosp' value is Spital Schwyz - Contains NaN\n",
      "Row 285: 'name_hosp' value is Spital Thurgau AG Kantonsspitäler Frauenfeld & Münsterlingen - Contains NaN\n",
      "Row 286: 'name_hosp' value is Spital Thusis - Contains NaN\n",
      "Row 287: 'name_hosp' value is Spital Uster - Contains NaN\n",
      "Row 288: 'name_hosp' value is Spital Wallis - Spitalzentrum Oberwallis (SZO) - Contains NaN\n",
      "Row 289: 'name_hosp' value is Spital Zollikerberg - Contains NaN\n",
      "Row 290: 'name_hosp' value is Spitalregion Fürstenland Toggenburg - Contains NaN\n",
      "Row 291: 'name_hosp' value is Spitalregion Rheintal Werdenberg Sarganserland - Contains NaN\n",
      "Row 292: 'name_hosp' value is Spitalverbund Appenzell Ausserrhoden - Contains NaN\n",
      "Row 293: 'name_hosp' value is Spitalzentrum Biel AG - Contains NaN\n",
      "Row 294: 'name_hosp' value is Spitäler Frutigen Meiringen Interlaken AG - Contains NaN\n",
      "Row 295: 'name_hosp' value is Spitäler Schaffhausen - Contains NaN\n",
      "Row 296: 'name_hosp' value is Stadtspital Triemli - Contains NaN\n",
      "Row 297: 'name_hosp' value is Stiftung Spital Muri - Contains NaN\n",
      "Row 298: 'name_hosp' value is Universitätsspital Basel - Contains NaN\n",
      "Row 299: 'name_hosp' value is Universitätsspital Zürich - Contains NaN\n",
      "Row 300: 'name_hosp' value is Zuger Kantonsspital AG - Contains NaN\n"
     ]
    }
   ],
   "source": [
    "for index, row in df.iterrows():\n",
    "    nan_present = row.drop(['name_hosp', 'JAHR']).isnull().any()  # Check if any NaN value exists\n",
    "\n",
    "    if nan_present:\n",
    "        name_hosp_value = row['name_hosp']\n",
    "        print(f\"Row {index}: 'name_hosp' value is {name_hosp_value} - Contains NaN\")"
   ]
  },
  {
   "cell_type": "markdown",
   "id": "iyCl7gToHTeA",
   "metadata": {
    "id": "iyCl7gToHTeA"
   },
   "source": [
    "**Procedure:** We now know that all the missing NaN values are from non-university hospitals. We will hence replace the NaN values by the mean of all the non-university hospitals."
   ]
  },
  {
   "cell_type": "code",
   "execution_count": 34,
   "id": "VuwLcm_cHVog",
   "metadata": {
    "id": "VuwLcm_cHVog"
   },
   "outputs": [
    {
     "name": "stdout",
     "output_type": "stream",
     "text": [
      "name_hosp                   NaN\n",
      "c_section_rate         0.331909\n",
      "I.1.16.M               0.088776\n",
      "A.5.1.F                0.257695\n",
      "A.7.14.M               0.009127\n",
      "                         ...   \n",
      "F.3.1.V                0.002374\n",
      "pBettenBelStatA_new    0.763560\n",
      "ErlKVGStatVA_new       0.466784\n",
      "ErlZvOKPStatVA_new     0.574332\n",
      "threshold              0.510714\n",
      "Length: 398, dtype: float64\n"
     ]
    }
   ],
   "source": [
    "means = df.drop('Typ', axis=1)[df['Typ'] != 'K111'].apply(pd.to_numeric, errors='coerce').mean()\n",
    "print(means)"
   ]
  },
  {
   "cell_type": "code",
   "execution_count": 35,
   "id": "wx4U2virHYFq",
   "metadata": {
    "executionInfo": {
     "elapsed": 274,
     "status": "ok",
     "timestamp": 1700239959832,
     "user": {
      "displayName": "Lenja Flütsch",
      "userId": "13076562399850223484"
     },
     "user_tz": -60
    },
    "id": "wx4U2virHYFq"
   },
   "outputs": [],
   "source": [
    "for col in means.index:\n",
    "    df[col].fillna(means[col], inplace=True)"
   ]
  },
  {
   "cell_type": "code",
   "execution_count": 36,
   "id": "yfds-XEhHao1",
   "metadata": {
    "colab": {
     "base_uri": "https://localhost:8080/"
    },
    "executionInfo": {
     "elapsed": 4,
     "status": "ok",
     "timestamp": 1700239960873,
     "user": {
      "displayName": "Lenja Flütsch",
      "userId": "13076562399850223484"
     },
     "user_tz": -60
    },
    "id": "yfds-XEhHao1",
    "outputId": "7c46e0ab-0a0c-420c-a5c7-7de9a3020df9"
   },
   "outputs": [
    {
     "name": "stdout",
     "output_type": "stream",
     "text": [
      "Columns with NaN values:\n",
      "Index(['SL', 'WB', 'SA'], dtype='object')\n",
      "Sum of NaN values for each column:\n",
      "SL    23\n",
      "WB     6\n",
      "SA    11\n",
      "dtype: int64\n"
     ]
    }
   ],
   "source": [
    "nan_columns = df.columns[df.isnull().any()]\n",
    "print(\"Columns with NaN values:\")\n",
    "print(nan_columns)\n",
    "nan_sum = df[nan_columns].isnull().sum()\n",
    "print(\"Sum of NaN values for each column:\")\n",
    "print(nan_sum)"
   ]
  },
  {
   "cell_type": "markdown",
   "id": "HNKq01cUHdR9",
   "metadata": {
    "id": "HNKq01cUHdR9"
   },
   "source": [
    "**Result:** We only have NaN in 3 string columns now, which we will deal with later."
   ]
  },
  {
   "cell_type": "markdown",
   "id": "3R9qkVnPHeAp",
   "metadata": {
    "id": "3R9qkVnPHeAp"
   },
   "source": [
    "## 2. String Value encoding\n",
    "\n",
    "**Procedure:** Let's first check how many columns with string values we have"
   ]
  },
  {
   "cell_type": "code",
   "execution_count": 37,
   "id": "kBCZaTUeHiUz",
   "metadata": {
    "colab": {
     "base_uri": "https://localhost:8080/"
    },
    "executionInfo": {
     "elapsed": 238,
     "status": "ok",
     "timestamp": 1700239962250,
     "user": {
      "displayName": "Lenja Flütsch",
      "userId": "13076562399850223484"
     },
     "user_tz": -60
    },
    "id": "kBCZaTUeHiUz",
    "outputId": "840c47b8-3029-4776-bc72-e8d1ebf5bf48"
   },
   "outputs": [
    {
     "name": "stdout",
     "output_type": "stream",
     "text": [
      "Columns with string values: Index(['name_hosp', 'Akt', 'SL', 'Typ', 'LA', 'WB', 'KT', 'RForm', 'SA'], dtype='object')\n",
      "Unique values and counts for column 'name_hosp':\n",
      "name_hosp\n",
      "EOC Ente ospedaliero cantonale                                                 7\n",
      "Spital Thurgau AG Kantonsspitäler Frauenfeld & Münsterlingen                   5\n",
      "Spitalregion Rheintal Werdenberg Sarganserland                                 5\n",
      "Luzerner Kantonsspital                                                         5\n",
      "Spitäler Frutigen Meiringen Interlaken AG                                      5\n",
      "                                                                              ..\n",
      "Spitalverbund Appenzell Ausserrhoden, Akutsomatisches Spital Heiden/Herisau    1\n",
      "Hirslanden Klinik St. Anna AG Hirslanden Klinik Meggen                         1\n",
      "SMN - Klinik Villa im Park                                                     1\n",
      "Spital Affoltern                                                               1\n",
      "Spitalverbund Appenzell Ausserrhoden                                           1\n",
      "Name: count, Length: 92, dtype: int64\n",
      "\n",
      "Unique values and counts for column 'Akt':\n",
      "Akt\n",
      "A          179\n",
      "A, R        58\n",
      "A, P        33\n",
      "A, P, R     28\n",
      "Name: count, dtype: int64\n",
      "\n",
      "Unique values and counts for column 'SL':\n",
      "SL\n",
      "NF, IPS    204\n",
      "NF          68\n",
      "IPS          3\n",
      "Name: count, dtype: int64\n",
      "\n",
      "Unique values and counts for column 'Typ':\n",
      "Typ\n",
      "K112    140\n",
      "K122     73\n",
      "K121     53\n",
      "K111     18\n",
      "K123     12\n",
      "K232      1\n",
      "K231      1\n",
      "Name: count, dtype: int64\n",
      "\n",
      "Unique values and counts for column 'LA':\n",
      "LA\n",
      "Amb, Stat    298\n",
      "Name: count, dtype: int64\n",
      "\n",
      "Unique values and counts for column 'WB':\n",
      "WB\n",
      "MSt, Arzt, BGs    220\n",
      "BGs                36\n",
      "Arzt, BGs          33\n",
      "MSt, BGs            3\n",
      "Name: count, dtype: int64\n",
      "\n",
      "Unique values and counts for column 'KT':\n",
      "KT\n",
      "ZH    45\n",
      "BE    41\n",
      "VD    30\n",
      "GR    30\n",
      "AG    23\n",
      "SG    20\n",
      "TI    15\n",
      "GE    13\n",
      "LU    11\n",
      "SZ     8\n",
      "BS     7\n",
      "ZG     7\n",
      "FR     6\n",
      "VS     6\n",
      "TG     5\n",
      "BL     4\n",
      "NW     4\n",
      "OW     4\n",
      "SH     3\n",
      "JU     3\n",
      "SO     3\n",
      "UR     3\n",
      "GL     3\n",
      "NE     2\n",
      "AR     2\n",
      "Name: count, dtype: int64\n",
      "\n",
      "Unique values and counts for column 'RForm':\n",
      "RForm\n",
      "R1    153\n",
      "R4    100\n",
      "R2     45\n",
      "Name: count, dtype: int64\n",
      "\n",
      "Unique values and counts for column 'SA':\n",
      "SA\n",
      "MRI, CT, PET, CC, LB, Lito, Angio, Dia    49\n",
      "MRI, CT, Angio, Dia                       42\n",
      "MRI, CT, Dia                              38\n",
      "MRI, CT                                   31\n",
      "MRI, CT, PET, CC, LB, Angio, Dia          19\n",
      "CT                                        15\n",
      "MRI, CT, Angio                            12\n",
      "MRI, CT, CC, LB, Lito, Angio, Dia          8\n",
      "MRI, CT, PET, CC, Angio, Dia               7\n",
      "CT, Dia                                    6\n",
      "MRI, CT, Lito, Angio, Dia                  6\n",
      "MRI, CT, Lito, Angio                       5\n",
      "MRI, CT, CC, Angio                         4\n",
      "MRI, CT, LB, Angio, Dia                    4\n",
      "MRI, CT, Lito, Dia                         4\n",
      "MRI, CT, PET, CC, Angio                    4\n",
      "MRI, CT, PET, CC, Lito, Angio, Dia         4\n",
      "MRI, CT, CC, LB, Angio                     3\n",
      "Angio                                      3\n",
      "MRI, CT, PET, CC, LB, Dia                  3\n",
      "Lito                                       3\n",
      "MRI, CT, CC, Lito, Angio, Dia              3\n",
      "Angio, Dia                                 2\n",
      "MRI, CT, PET, CC, LB, Lito, Angio          2\n",
      "MRI, CT, PET, CC, LB, Angio                2\n",
      "CT, Angio, Dia                             2\n",
      "CT, CC, Angio, Dia                         2\n",
      "CT, CC, Lito, Angio, Dia                   1\n",
      "MRI, CT, LB, Lito, Angio                   1\n",
      "CT, Angio                                  1\n",
      "MRI, CT, PET, Angio, Dia                   1\n",
      "Name: count, dtype: int64\n",
      "\n"
     ]
    }
   ],
   "source": [
    "string_columns = df.select_dtypes(include='object').columns\n",
    "print(\"Columns with string values:\", string_columns)\n",
    "for column in string_columns:\n",
    "    print(f\"Unique values and counts for column '{column}':\")\n",
    "    print(df[column].value_counts())\n",
    "    print()"
   ]
  },
  {
   "cell_type": "markdown",
   "id": "6IZ8Bp7NHmbG",
   "metadata": {
    "id": "6IZ8Bp7NHmbG"
   },
   "source": [
    "**Procedure:** We saw that the 'name_hosp' column takes many different values and most probably doesn't contain information with a lot of value for our prediction. We hence decide to drop this column and use 'one hot encoding' for the other string variables. One hot encoding creates binary columns for each category.\n",
    "\n",
    "(This is better than using label encoder since label encoder assumes a clear, meaningful order or ranking in the variables to be encoded which is not the case for our string variables.)"
   ]
  },
  {
   "cell_type": "code",
   "execution_count": 38,
   "id": "G_HpNFOLHrlu",
   "metadata": {
    "colab": {
     "base_uri": "https://localhost:8080/"
    },
    "executionInfo": {
     "elapsed": 259,
     "status": "ok",
     "timestamp": 1700239965252,
     "user": {
      "displayName": "Lenja Flütsch",
      "userId": "13076562399850223484"
     },
     "user_tz": -60
    },
    "id": "G_HpNFOLHrlu",
    "outputId": "c0a9a093-d999-44fc-b83b-fefcf9b3e04e"
   },
   "outputs": [
    {
     "data": {
      "text/plain": [
       "(298, 399)"
      ]
     },
     "execution_count": 38,
     "metadata": {},
     "output_type": "execute_result"
    }
   ],
   "source": [
    "df.shape"
   ]
  },
  {
   "cell_type": "code",
   "execution_count": 39,
   "id": "QpnwyKz4HsC7",
   "metadata": {
    "executionInfo": {
     "elapsed": 370,
     "status": "ok",
     "timestamp": 1700239966507,
     "user": {
      "displayName": "Lenja Flütsch",
      "userId": "13076562399850223484"
     },
     "user_tz": -60
    },
    "id": "QpnwyKz4HsC7"
   },
   "outputs": [],
   "source": [
    "df = df.drop('name_hosp', axis=1)\n",
    "columns_to_onehot = ['Akt', 'SL', 'Typ', 'LA', 'WB', 'KT', 'RForm', 'SA']\n",
    "df_encoded = pd.get_dummies(df, columns=columns_to_onehot)"
   ]
  },
  {
   "cell_type": "code",
   "execution_count": 40,
   "id": "WufZL__5HuBO",
   "metadata": {
    "colab": {
     "base_uri": "https://localhost:8080/"
    },
    "executionInfo": {
     "elapsed": 4,
     "status": "ok",
     "timestamp": 1700239966851,
     "user": {
      "displayName": "Lenja Flütsch",
      "userId": "13076562399850223484"
     },
     "user_tz": -60
    },
    "id": "WufZL__5HuBO",
    "outputId": "2411778d-4b52-4028-c42c-ecf7ac669fbb"
   },
   "outputs": [
    {
     "data": {
      "text/plain": [
       "(298, 468)"
      ]
     },
     "execution_count": 40,
     "metadata": {},
     "output_type": "execute_result"
    }
   ],
   "source": [
    "df_encoded.shape #to check if one hot encoding worked"
   ]
  },
  {
   "cell_type": "code",
   "execution_count": 41,
   "id": "fOdfaLP4HysQ",
   "metadata": {
    "colab": {
     "base_uri": "https://localhost:8080/"
    },
    "executionInfo": {
     "elapsed": 257,
     "status": "ok",
     "timestamp": 1700239968368,
     "user": {
      "displayName": "Lenja Flütsch",
      "userId": "13076562399850223484"
     },
     "user_tz": -60
    },
    "id": "fOdfaLP4HysQ",
    "outputId": "4eb323df-d731-4e0b-b5e9-764f9c4f98c4"
   },
   "outputs": [
    {
     "name": "stdout",
     "output_type": "stream",
     "text": [
      "Columns with NaN values:\n",
      "Index([], dtype='object')\n",
      "Sum of NaN values for each column:\n",
      "Series([], dtype: float64)\n"
     ]
    }
   ],
   "source": [
    "nan_columns = df_encoded.columns[df_encoded.isnull().any()]\n",
    "print(\"Columns with NaN values:\")\n",
    "print(nan_columns)\n",
    "nan_sum = df_encoded[nan_columns].isnull().sum()\n",
    "print(\"Sum of NaN values for each column:\")\n",
    "print(nan_sum)"
   ]
  },
  {
   "cell_type": "code",
   "execution_count": 44,
   "id": "lsuMBB2wHzRl",
   "metadata": {
    "executionInfo": {
     "elapsed": 854,
     "status": "ok",
     "timestamp": 1700240009240,
     "user": {
      "displayName": "Lenja Flütsch",
      "userId": "13076562399850223484"
     },
     "user_tz": -60
    },
    "id": "lsuMBB2wHzRl"
   },
   "outputs": [],
   "source": [
    "#df_encoded.to_csv('/content/drive/MyDrive/Module 3/Final_Final_Lenja.csv', index=False)\n",
    "df_encoded.to_csv('C:/Users/Gaëlle/Documents/_CAS applied data science/3. Module 3 Data analysis and machine learning/Project/Models/final_GMA.csv', index=False)"
   ]
  },
  {
   "cell_type": "code",
   "execution_count": null,
   "id": "449c1ccc",
   "metadata": {},
   "outputs": [],
   "source": []
  }
 ],
 "metadata": {
  "colab": {
   "provenance": []
  },
  "kernelspec": {
   "display_name": "Python 3 (ipykernel)",
   "language": "python",
   "name": "python3"
  },
  "language_info": {
   "codemirror_mode": {
    "name": "ipython",
    "version": 3
   },
   "file_extension": ".py",
   "mimetype": "text/x-python",
   "name": "python",
   "nbconvert_exporter": "python",
   "pygments_lexer": "ipython3",
   "version": "3.10.11"
  }
 },
 "nbformat": 4,
 "nbformat_minor": 5
}
