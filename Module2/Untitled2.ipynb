{
 "cells": [
  {
   "cell_type": "code",
   "execution_count": 10,
   "id": "3f2eb920",
   "metadata": {},
   "outputs": [],
   "source": [
    "import pandas as pd\n",
    "import matplotlib.pyplot as plt"
   ]
  },
  {
   "cell_type": "code",
   "execution_count": 2,
   "id": "0dea6bdc",
   "metadata": {},
   "outputs": [],
   "source": [
    "filename = \"hospital.csv\"\n",
    "df_global = pd.read_csv(filename)"
   ]
  },
  {
   "cell_type": "code",
   "execution_count": 3,
   "id": "fd1feddd",
   "metadata": {},
   "outputs": [
    {
     "data": {
      "text/html": [
       "<div>\n",
       "<style scoped>\n",
       "    .dataframe tbody tr th:only-of-type {\n",
       "        vertical-align: middle;\n",
       "    }\n",
       "\n",
       "    .dataframe tbody tr th {\n",
       "        vertical-align: top;\n",
       "    }\n",
       "\n",
       "    .dataframe thead th {\n",
       "        text-align: right;\n",
       "    }\n",
       "</style>\n",
       "<table border=\"1\" class=\"dataframe\">\n",
       "  <thead>\n",
       "    <tr style=\"text-align: right;\">\n",
       "      <th></th>\n",
       "      <th>hospital</th>\n",
       "      <th>delivery</th>\n",
       "      <th>year</th>\n",
       "      <th>cases_c-section</th>\n",
       "      <th>cases_kidney</th>\n",
       "      <th>Inst</th>\n",
       "      <th>Doctor</th>\n",
       "      <th>Doctor_in_formation</th>\n",
       "      <th>Nurse</th>\n",
       "      <th>Other_Nurse</th>\n",
       "      <th>Total_staff</th>\n",
       "      <th>Operation_rooms</th>\n",
       "      <th>Delivery_rooms</th>\n",
       "      <th>Private_division</th>\n",
       "      <th>percentage_c-section</th>\n",
       "    </tr>\n",
       "  </thead>\n",
       "  <tbody>\n",
       "    <tr>\n",
       "      <th>0</th>\n",
       "      <td>GE</td>\n",
       "      <td>4048</td>\n",
       "      <td>2015</td>\n",
       "      <td>1196</td>\n",
       "      <td>35</td>\n",
       "      <td>Les Hôpitaux Universitaires de Genève HUG</td>\n",
       "      <td>1676.08</td>\n",
       "      <td>NaN</td>\n",
       "      <td>4200.28</td>\n",
       "      <td>983.58</td>\n",
       "      <td>9936.21</td>\n",
       "      <td>38.0</td>\n",
       "      <td>7.0</td>\n",
       "      <td>0.0959</td>\n",
       "      <td>0.295455</td>\n",
       "    </tr>\n",
       "    <tr>\n",
       "      <th>1</th>\n",
       "      <td>VD</td>\n",
       "      <td>2909</td>\n",
       "      <td>2015</td>\n",
       "      <td>963</td>\n",
       "      <td>52</td>\n",
       "      <td>CHUV Centre Hospitalier Universitaire Vaudois</td>\n",
       "      <td>1586.90</td>\n",
       "      <td>NaN</td>\n",
       "      <td>3263.07</td>\n",
       "      <td>1578.87</td>\n",
       "      <td>9413.29</td>\n",
       "      <td>29.0</td>\n",
       "      <td>6.0</td>\n",
       "      <td>0.0726</td>\n",
       "      <td>0.331042</td>\n",
       "    </tr>\n",
       "    <tr>\n",
       "      <th>2</th>\n",
       "      <td>ZH</td>\n",
       "      <td>2839</td>\n",
       "      <td>2015</td>\n",
       "      <td>1226</td>\n",
       "      <td>83</td>\n",
       "      <td>Universitätsspital Zürich</td>\n",
       "      <td>1205.53</td>\n",
       "      <td>NaN</td>\n",
       "      <td>2207.53</td>\n",
       "      <td>1049.24</td>\n",
       "      <td>6431.54</td>\n",
       "      <td>34.0</td>\n",
       "      <td>8.0</td>\n",
       "      <td>0.2013</td>\n",
       "      <td>0.431842</td>\n",
       "    </tr>\n",
       "    <tr>\n",
       "      <th>3</th>\n",
       "      <td>BS</td>\n",
       "      <td>2509</td>\n",
       "      <td>2015</td>\n",
       "      <td>912</td>\n",
       "      <td>80</td>\n",
       "      <td>Universitätsspital Basel</td>\n",
       "      <td>877.81</td>\n",
       "      <td>NaN</td>\n",
       "      <td>1676.80</td>\n",
       "      <td>610.12</td>\n",
       "      <td>4764.80</td>\n",
       "      <td>24.0</td>\n",
       "      <td>5.0</td>\n",
       "      <td>0.2175</td>\n",
       "      <td>0.363491</td>\n",
       "    </tr>\n",
       "    <tr>\n",
       "      <th>4</th>\n",
       "      <td>BE</td>\n",
       "      <td>1639</td>\n",
       "      <td>2015</td>\n",
       "      <td>681</td>\n",
       "      <td>40</td>\n",
       "      <td>Insel Gruppe AG (universitär)</td>\n",
       "      <td>1229.17</td>\n",
       "      <td>NaN</td>\n",
       "      <td>2594.96</td>\n",
       "      <td>869.81</td>\n",
       "      <td>6764.86</td>\n",
       "      <td>34.0</td>\n",
       "      <td>5.0</td>\n",
       "      <td>0.1663</td>\n",
       "      <td>0.415497</td>\n",
       "    </tr>\n",
       "  </tbody>\n",
       "</table>\n",
       "</div>"
      ],
      "text/plain": [
       "  hospital  delivery  year  cases_c-section  cases_kidney  \\\n",
       "0       GE      4048  2015             1196            35   \n",
       "1       VD      2909  2015              963            52   \n",
       "2       ZH      2839  2015             1226            83   \n",
       "3       BS      2509  2015              912            80   \n",
       "4       BE      1639  2015              681            40   \n",
       "\n",
       "                                            Inst   Doctor  \\\n",
       "0      Les Hôpitaux Universitaires de Genève HUG  1676.08   \n",
       "1  CHUV Centre Hospitalier Universitaire Vaudois  1586.90   \n",
       "2                      Universitätsspital Zürich  1205.53   \n",
       "3                       Universitätsspital Basel   877.81   \n",
       "4                  Insel Gruppe AG (universitär)  1229.17   \n",
       "\n",
       "   Doctor_in_formation    Nurse  Other_Nurse  Total_staff  Operation_rooms  \\\n",
       "0                  NaN  4200.28       983.58      9936.21             38.0   \n",
       "1                  NaN  3263.07      1578.87      9413.29             29.0   \n",
       "2                  NaN  2207.53      1049.24      6431.54             34.0   \n",
       "3                  NaN  1676.80       610.12      4764.80             24.0   \n",
       "4                  NaN  2594.96       869.81      6764.86             34.0   \n",
       "\n",
       "   Delivery_rooms  Private_division  percentage_c-section  \n",
       "0             7.0            0.0959              0.295455  \n",
       "1             6.0            0.0726              0.331042  \n",
       "2             8.0            0.2013              0.431842  \n",
       "3             5.0            0.2175              0.363491  \n",
       "4             5.0            0.1663              0.415497  "
      ]
     },
     "execution_count": 3,
     "metadata": {},
     "output_type": "execute_result"
    }
   ],
   "source": [
    "df_global.head()"
   ]
  },
  {
   "cell_type": "code",
   "execution_count": 8,
   "id": "fe37370f",
   "metadata": {},
   "outputs": [],
   "source": [
    "df_GE = df_global[df_global['hospital']=='GE']\n",
    "df_VD = df_global[df_global['hospital']=='VD']\n",
    "df_BE = df_global[df_global['hospital']=='BE']\n",
    "df_ZH = df_global[df_global['hospital']=='ZH']\n",
    "df_BS = df_global[df_global['hospital']=='BS']"
   ]
  },
  {
   "cell_type": "code",
   "execution_count": 11,
   "id": "d0df6128",
   "metadata": {},
   "outputs": [
    {
     "data": {
      "text/plain": [
       "<matplotlib.legend.Legend at 0x15b3db950>"
      ]
     },
     "execution_count": 11,
     "metadata": {},
     "output_type": "execute_result"
    },
    {
     "data": {
      "image/png": "[encoded data removed]",
      "text/plain": [
       "<Figure size 1200x1000 with 1 Axes>"
      ]
     },
     "metadata": {},
     "output_type": "display_data"
    }
   ],
   "source": [
    "datasets = [df_GE['delivery'],df_VD['delivery'],df_BE['delivery'],df_ZH['delivery'],df_BS['delivery'] ]\n",
    "dataset_labels = ['GE','VD','BE','ZH','BS']\n",
    "plt.figure(figsize=(12,10))\n",
    "plt.title('Delivery')\n",
    "i=0\n",
    "for dataset in datasets[0:5]:\n",
    "    dataset.plot(kind=\"hist\",fill=True,alpha=0.2,histtype='step',label=dataset_labels[i])\n",
    "    #print('%10s %1.2f ' % (datasets_labels[i],p))\n",
    "    i+=1\n",
    "plt.legend()"
   ]
  },
  {
   "cell_type": "code",
   "execution_count": null,
   "id": "debf2669",
   "metadata": {},
   "outputs": [],
   "source": []
  }
 ],
 "metadata": {
  "kernelspec": {
   "display_name": "Python 3 (ipykernel)",
   "language": "python",
   "name": "python3"
  },
  "language_info": {
   "codemirror_mode": {
    "name": "ipython",
    "version": 3
   },
   "file_extension": ".py",
   "mimetype": "text/x-python",
   "name": "python",
   "nbconvert_exporter": "python",
   "pygments_lexer": "ipython3",
   "version": "3.11.4"
  }
 },
 "nbformat": 4,
 "nbformat_minor": 5
}
